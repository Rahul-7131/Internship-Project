{
  "nbformat": 4,
  "nbformat_minor": 0,
  "metadata": {
    "colab": {
      "name": "Exploratory Data Analysis of Car Features.ipynb",
      "provenance": [],
      "collapsed_sections": [],
      "toc_visible": true,
      "authorship_tag": "ABX9TyOzntHV/CQvicF2jCo4TQtd",
      "include_colab_link": true
    },
    "kernelspec": {
      "name": "python3",
      "display_name": "Python 3"
    }
  },
  "cells": [
    {
      "cell_type": "markdown",
      "metadata": {
        "id": "view-in-github",
        "colab_type": "text"
      },
      "source": [
        "<a href=\"https://colab.research.google.com/github/Rahul-7131/Internship-Project/blob/master/Exploratory_Data_Analysis_of_Car_Features_ML.ipynb\" target=\"_parent\"><img src=\"https://colab.research.google.com/assets/colab-badge.svg\" alt=\"Open In Colab\"/></a>"
      ]
    },
    {
      "cell_type": "markdown",
      "metadata": {
        "id": "YI0b2oplEXrS",
        "colab_type": "text"
      },
      "source": [
        "# Machine Learning Project on Exploratory Data Analysis of Car features"
      ]
    },
    {
      "cell_type": "markdown",
      "metadata": {
        "id": "gPUz_QbvEs-7",
        "colab_type": "text"
      },
      "source": [
        "Exploratory Data Analysis refers to the critical process of performing initial investigations on data so as to discover patterns,to spot anomalies,to test hypothesis and to check assumptions with the help of summary statistics and graphical representations.We often use plotting in EDA for the better understanding of a particular model or data.Plotting in EDA consists of Histograms, Box plot, Scatter plot and many more. EDA is for seeing what the data can tell us beyond the formal modeling or hypothesis testing task.EDA is different from initial data analysis (IDA), which focuses more narrowly on checking assumptions required for model fitting and hypothesis testing, and handling missing values and making transformations of variables as needed. EDA encompasses IDA.  \n",
        "\n",
        "In this project, I performed Exploratory data analysis on how the different features of a car and its price are related. The data comes from the Kaggle dataset \"Car Features and MSRP\". It describes almost 12,000 car models, sold in the USA between 1990 and 2017, with the market price (new or used) and some features. So in this notebook, we will explore the data and make it ready for modeling.\n"
      ]
    },
    {
      "cell_type": "markdown",
      "metadata": {
        "id": "PXo8-SY9G3NR",
        "colab_type": "text"
      },
      "source": [
        "# Step 1 :-"
      ]
    },
    {
      "cell_type": "markdown",
      "metadata": {
        "id": "Ig5oTuF7HoWO",
        "colab_type": "text"
      },
      "source": [
        "**(a) Importing the Required Libraries for our Project**"
      ]
    },
    {
      "cell_type": "code",
      "metadata": {
        "id": "_CFbbdBTIVhE",
        "colab_type": "code",
        "colab": {
          "base_uri": "https://localhost:8080/",
          "height": 70
        },
        "outputId": "be2bfd26-a122-463a-f389-5db75380578b"
      },
      "source": [
        "import pandas as pd              \n",
        "import numpy as np               \n",
        "import matplotlib\n",
        "import matplotlib.pyplot as plt  #for visualization\n",
        "import seaborn as sns            #for visualization     \n",
        "import sklearn                   #for regression \n",
        "%matplotlib inline              "
      ],
      "execution_count": 1,
      "outputs": [
        {
          "output_type": "stream",
          "text": [
            "/usr/local/lib/python3.6/dist-packages/statsmodels/tools/_testing.py:19: FutureWarning: pandas.util.testing is deprecated. Use the functions in the public API at pandas.testing instead.\n",
            "  import pandas.util.testing as tm\n"
          ],
          "name": "stderr"
        }
      ]
    },
    {
      "cell_type": "markdown",
      "metadata": {
        "id": "MDnOsf6RLs7c",
        "colab_type": "text"
      },
      "source": [
        "**(b) Importing the dataset downloaded from kaggle**"
      ]
    },
    {
      "cell_type": "code",
      "metadata": {
        "id": "nQtXJ1OrYlzM",
        "colab_type": "code",
        "colab": {
          "resources": {
            "http://localhost:8080/nbextensions/google.colab/files.js": {
              "data": "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",
              "ok": true,
              "headers": [
                [
                  "content-type",
                  "application/javascript"
                ]
              ],
              "status": 200,
              "status_text": ""
            }
          },
          "base_uri": "https://localhost:8080/",
          "height": 73
        },
        "outputId": "bfdcf9fb-681c-41a3-c350-e5b3f94705a6"
      },
      "source": [
        "from google.colab import files\n",
        "uploaded = files.upload()"
      ],
      "execution_count": 2,
      "outputs": [
        {
          "output_type": "display_data",
          "data": {
            "text/html": [
              "\n",
              "     <input type=\"file\" id=\"files-7ea03ade-ea31-4021-889f-303d164cebd6\" name=\"files[]\" multiple disabled\n",
              "        style=\"border:none\" />\n",
              "     <output id=\"result-7ea03ade-ea31-4021-889f-303d164cebd6\">\n",
              "      Upload widget is only available when the cell has been executed in the\n",
              "      current browser session. Please rerun this cell to enable.\n",
              "      </output>\n",
              "      <script src=\"/nbextensions/google.colab/files.js\"></script> "
            ],
            "text/plain": [
              "<IPython.core.display.HTML object>"
            ]
          },
          "metadata": {
            "tags": []
          }
        },
        {
          "output_type": "stream",
          "text": [
            "Saving data.csv to data.csv\n"
          ],
          "name": "stdout"
        }
      ]
    },
    {
      "cell_type": "code",
      "metadata": {
        "id": "6SHR0ZCNLMH1",
        "colab_type": "code",
        "colab": {
          "base_uri": "https://localhost:8080/",
          "height": 34
        },
        "outputId": "942caa3f-f65a-4f3d-8b7d-633d69a456ca"
      },
      "source": [
        "import io\n",
        "car_data = pd.read_csv(io.BytesIO(uploaded['data.csv']))\n",
        "print(\"Data has been loaded successfully\") "
      ],
      "execution_count": 3,
      "outputs": [
        {
          "output_type": "stream",
          "text": [
            "Data has been loaded successfully\n"
          ],
          "name": "stdout"
        }
      ]
    },
    {
      "cell_type": "markdown",
      "metadata": {
        "id": "-gQqbpYvM5iW",
        "colab_type": "text"
      },
      "source": [
        "**(c) Printing the dataset**"
      ]
    },
    {
      "cell_type": "code",
      "metadata": {
        "id": "ZWEf8NrLNDXN",
        "colab_type": "code",
        "colab": {
          "base_uri": "https://localhost:8080/",
          "height": 252
        },
        "outputId": "c706a959-a3be-490a-83f9-7779e59f5231"
      },
      "source": [
        "print(car_data)"
      ],
      "execution_count": 4,
      "outputs": [
        {
          "output_type": "stream",
          "text": [
            "          Make       Model  Year  ... city mpg  Popularity   MSRP\n",
            "0          BMW  1 Series M  2011  ...       19        3916  46135\n",
            "1          BMW    1 Series  2011  ...       19        3916  40650\n",
            "2          BMW    1 Series  2011  ...       20        3916  36350\n",
            "3          BMW    1 Series  2011  ...       18        3916  29450\n",
            "4          BMW    1 Series  2011  ...       18        3916  34500\n",
            "...        ...         ...   ...  ...      ...         ...    ...\n",
            "11909    Acura         ZDX  2012  ...       16         204  46120\n",
            "11910    Acura         ZDX  2012  ...       16         204  56670\n",
            "11911    Acura         ZDX  2012  ...       16         204  50620\n",
            "11912    Acura         ZDX  2013  ...       16         204  50920\n",
            "11913  Lincoln      Zephyr  2006  ...       17          61  28995\n",
            "\n",
            "[11914 rows x 16 columns]\n"
          ],
          "name": "stdout"
        }
      ]
    },
    {
      "cell_type": "markdown",
      "metadata": {
        "id": "TtG-hlEMNbcR",
        "colab_type": "text"
      },
      "source": [
        "**(d) Checking the datatype of dataset**"
      ]
    },
    {
      "cell_type": "code",
      "metadata": {
        "id": "-hCvGVc0NkZ3",
        "colab_type": "code",
        "colab": {
          "base_uri": "https://localhost:8080/",
          "height": 319
        },
        "outputId": "791e9d74-7f12-4db2-90c4-310a3b09d34d"
      },
      "source": [
        "print(\"The various Datatypes in the dataset are:\")\n",
        "car_data.dtypes"
      ],
      "execution_count": 5,
      "outputs": [
        {
          "output_type": "stream",
          "text": [
            "The various Datatypes in the dataset are:\n"
          ],
          "name": "stdout"
        },
        {
          "output_type": "execute_result",
          "data": {
            "text/plain": [
              "Make                  object\n",
              "Model                 object\n",
              "Year                   int64\n",
              "Engine Fuel Type      object\n",
              "Engine HP            float64\n",
              "Engine Cylinders     float64\n",
              "Transmission Type     object\n",
              "Driven_Wheels         object\n",
              "Number of Doors      float64\n",
              "Market Category       object\n",
              "Vehicle Size          object\n",
              "Vehicle Style         object\n",
              "highway MPG            int64\n",
              "city mpg               int64\n",
              "Popularity             int64\n",
              "MSRP                   int64\n",
              "dtype: object"
            ]
          },
          "metadata": {
            "tags": []
          },
          "execution_count": 5
        }
      ]
    },
    {
      "cell_type": "markdown",
      "metadata": {
        "id": "k2OZJcuhN2Fm",
        "colab_type": "text"
      },
      "source": [
        "**(e) Observing the Statistical Summary**"
      ]
    },
    {
      "cell_type": "code",
      "metadata": {
        "id": "_2Z5b2PMN1me",
        "colab_type": "code",
        "colab": {
          "base_uri": "https://localhost:8080/",
          "height": 301
        },
        "outputId": "6cc9cbe8-d2ef-4729-f276-f7e0b6021d67"
      },
      "source": [
        "print(\"Statistical Summary :\")\n",
        "car_data.describe()\n"
      ],
      "execution_count": 6,
      "outputs": [
        {
          "output_type": "stream",
          "text": [
            "Statistical Summary :\n"
          ],
          "name": "stdout"
        },
        {
          "output_type": "execute_result",
          "data": {
            "text/html": [
              "<div>\n",
              "<style scoped>\n",
              "    .dataframe tbody tr th:only-of-type {\n",
              "        vertical-align: middle;\n",
              "    }\n",
              "\n",
              "    .dataframe tbody tr th {\n",
              "        vertical-align: top;\n",
              "    }\n",
              "\n",
              "    .dataframe thead th {\n",
              "        text-align: right;\n",
              "    }\n",
              "</style>\n",
              "<table border=\"1\" class=\"dataframe\">\n",
              "  <thead>\n",
              "    <tr style=\"text-align: right;\">\n",
              "      <th></th>\n",
              "      <th>Year</th>\n",
              "      <th>Engine HP</th>\n",
              "      <th>Engine Cylinders</th>\n",
              "      <th>Number of Doors</th>\n",
              "      <th>highway MPG</th>\n",
              "      <th>city mpg</th>\n",
              "      <th>Popularity</th>\n",
              "      <th>MSRP</th>\n",
              "    </tr>\n",
              "  </thead>\n",
              "  <tbody>\n",
              "    <tr>\n",
              "      <th>count</th>\n",
              "      <td>11914.000000</td>\n",
              "      <td>11845.00000</td>\n",
              "      <td>11884.000000</td>\n",
              "      <td>11908.000000</td>\n",
              "      <td>11914.000000</td>\n",
              "      <td>11914.000000</td>\n",
              "      <td>11914.000000</td>\n",
              "      <td>1.191400e+04</td>\n",
              "    </tr>\n",
              "    <tr>\n",
              "      <th>mean</th>\n",
              "      <td>2010.384338</td>\n",
              "      <td>249.38607</td>\n",
              "      <td>5.628829</td>\n",
              "      <td>3.436093</td>\n",
              "      <td>26.637485</td>\n",
              "      <td>19.733255</td>\n",
              "      <td>1554.911197</td>\n",
              "      <td>4.059474e+04</td>\n",
              "    </tr>\n",
              "    <tr>\n",
              "      <th>std</th>\n",
              "      <td>7.579740</td>\n",
              "      <td>109.19187</td>\n",
              "      <td>1.780559</td>\n",
              "      <td>0.881315</td>\n",
              "      <td>8.863001</td>\n",
              "      <td>8.987798</td>\n",
              "      <td>1441.855347</td>\n",
              "      <td>6.010910e+04</td>\n",
              "    </tr>\n",
              "    <tr>\n",
              "      <th>min</th>\n",
              "      <td>1990.000000</td>\n",
              "      <td>55.00000</td>\n",
              "      <td>0.000000</td>\n",
              "      <td>2.000000</td>\n",
              "      <td>12.000000</td>\n",
              "      <td>7.000000</td>\n",
              "      <td>2.000000</td>\n",
              "      <td>2.000000e+03</td>\n",
              "    </tr>\n",
              "    <tr>\n",
              "      <th>25%</th>\n",
              "      <td>2007.000000</td>\n",
              "      <td>170.00000</td>\n",
              "      <td>4.000000</td>\n",
              "      <td>2.000000</td>\n",
              "      <td>22.000000</td>\n",
              "      <td>16.000000</td>\n",
              "      <td>549.000000</td>\n",
              "      <td>2.100000e+04</td>\n",
              "    </tr>\n",
              "    <tr>\n",
              "      <th>50%</th>\n",
              "      <td>2015.000000</td>\n",
              "      <td>227.00000</td>\n",
              "      <td>6.000000</td>\n",
              "      <td>4.000000</td>\n",
              "      <td>26.000000</td>\n",
              "      <td>18.000000</td>\n",
              "      <td>1385.000000</td>\n",
              "      <td>2.999500e+04</td>\n",
              "    </tr>\n",
              "    <tr>\n",
              "      <th>75%</th>\n",
              "      <td>2016.000000</td>\n",
              "      <td>300.00000</td>\n",
              "      <td>6.000000</td>\n",
              "      <td>4.000000</td>\n",
              "      <td>30.000000</td>\n",
              "      <td>22.000000</td>\n",
              "      <td>2009.000000</td>\n",
              "      <td>4.223125e+04</td>\n",
              "    </tr>\n",
              "    <tr>\n",
              "      <th>max</th>\n",
              "      <td>2017.000000</td>\n",
              "      <td>1001.00000</td>\n",
              "      <td>16.000000</td>\n",
              "      <td>4.000000</td>\n",
              "      <td>354.000000</td>\n",
              "      <td>137.000000</td>\n",
              "      <td>5657.000000</td>\n",
              "      <td>2.065902e+06</td>\n",
              "    </tr>\n",
              "  </tbody>\n",
              "</table>\n",
              "</div>"
            ],
            "text/plain": [
              "               Year    Engine HP  ...    Popularity          MSRP\n",
              "count  11914.000000  11845.00000  ...  11914.000000  1.191400e+04\n",
              "mean    2010.384338    249.38607  ...   1554.911197  4.059474e+04\n",
              "std        7.579740    109.19187  ...   1441.855347  6.010910e+04\n",
              "min     1990.000000     55.00000  ...      2.000000  2.000000e+03\n",
              "25%     2007.000000    170.00000  ...    549.000000  2.100000e+04\n",
              "50%     2015.000000    227.00000  ...   1385.000000  2.999500e+04\n",
              "75%     2016.000000    300.00000  ...   2009.000000  4.223125e+04\n",
              "max     2017.000000   1001.00000  ...   5657.000000  2.065902e+06\n",
              "\n",
              "[8 rows x 8 columns]"
            ]
          },
          "metadata": {
            "tags": []
          },
          "execution_count": 6
        }
      ]
    },
    {
      "cell_type": "markdown",
      "metadata": {
        "id": "IkrFzBiBO8nU",
        "colab_type": "text"
      },
      "source": [
        "**(f) Observing the Shape of the dataset**"
      ]
    },
    {
      "cell_type": "code",
      "metadata": {
        "id": "r0aKK_FtPKou",
        "colab_type": "code",
        "colab": {
          "base_uri": "https://localhost:8080/",
          "height": 50
        },
        "outputId": "5d3584c5-dd0d-4c97-b3e4-5e42d143d64a"
      },
      "source": [
        "print(\"The number of rows and columns are : \")\n",
        "car_data.shape #format:(rows,columns)"
      ],
      "execution_count": 7,
      "outputs": [
        {
          "output_type": "stream",
          "text": [
            "The number of rows and columns are : \n"
          ],
          "name": "stdout"
        },
        {
          "output_type": "execute_result",
          "data": {
            "text/plain": [
              "(11914, 16)"
            ]
          },
          "metadata": {
            "tags": []
          },
          "execution_count": 7
        }
      ]
    },
    {
      "cell_type": "markdown",
      "metadata": {
        "id": "DWuKDdPbPuYB",
        "colab_type": "text"
      },
      "source": [
        "**(g) Checking for Null values in each column**"
      ]
    },
    {
      "cell_type": "code",
      "metadata": {
        "id": "iwytyKAQQSnp",
        "colab_type": "code",
        "colab": {
          "base_uri": "https://localhost:8080/",
          "height": 34
        },
        "outputId": "aa5e162d-9997-46f8-d3ba-3b72b24e9009"
      },
      "source": [
        "bool_series_make = pd.isnull(car_data[\"Make\"])  # for 1st column 'Make'\n",
        "car_data[bool_series_make].shape                # Number of null values\n"
      ],
      "execution_count": 8,
      "outputs": [
        {
          "output_type": "execute_result",
          "data": {
            "text/plain": [
              "(0, 16)"
            ]
          },
          "metadata": {
            "tags": []
          },
          "execution_count": 8
        }
      ]
    },
    {
      "cell_type": "code",
      "metadata": {
        "id": "YQqoTmsLReHP",
        "colab_type": "code",
        "colab": {
          "base_uri": "https://localhost:8080/",
          "height": 34
        },
        "outputId": "4dca0595-8890-4bcd-bf12-b6acda895eb0"
      },
      "source": [
        "bool_series_model = pd.isnull(car_data[\"Model\"])  # for 2nd column 'Model'\n",
        "car_data[bool_series_model].shape                 # Number of null values\n"
      ],
      "execution_count": 9,
      "outputs": [
        {
          "output_type": "execute_result",
          "data": {
            "text/plain": [
              "(0, 16)"
            ]
          },
          "metadata": {
            "tags": []
          },
          "execution_count": 9
        }
      ]
    },
    {
      "cell_type": "code",
      "metadata": {
        "id": "1bhLQ8x4RhmQ",
        "colab_type": "code",
        "colab": {
          "base_uri": "https://localhost:8080/",
          "height": 34
        },
        "outputId": "2a093de5-ad2e-483d-9a12-6c8ac789f081"
      },
      "source": [
        "bool_series_year = pd.isnull(car_data[\"Year\"])  # for 3rd column 'Year'\n",
        "car_data[bool_series_year].shape                # Number of null values\n"
      ],
      "execution_count": 10,
      "outputs": [
        {
          "output_type": "execute_result",
          "data": {
            "text/plain": [
              "(0, 16)"
            ]
          },
          "metadata": {
            "tags": []
          },
          "execution_count": 10
        }
      ]
    },
    {
      "cell_type": "code",
      "metadata": {
        "id": "Fthxudn3Rj55",
        "colab_type": "code",
        "colab": {
          "base_uri": "https://localhost:8080/",
          "height": 34
        },
        "outputId": "041fd7d7-28ae-4899-8703-94b6995a9666"
      },
      "source": [
        "bool_series_egt = pd.isnull(car_data[\"Engine Fuel Type\"])  # for 4th column 'Engine Fuel Type'\n",
        "car_data[bool_series_egt].shape                            # Number of null values\n"
      ],
      "execution_count": 11,
      "outputs": [
        {
          "output_type": "execute_result",
          "data": {
            "text/plain": [
              "(3, 16)"
            ]
          },
          "metadata": {
            "tags": []
          },
          "execution_count": 11
        }
      ]
    },
    {
      "cell_type": "code",
      "metadata": {
        "id": "aHruKfzJRqUm",
        "colab_type": "code",
        "colab": {
          "base_uri": "https://localhost:8080/",
          "height": 34
        },
        "outputId": "a4f4bf66-d780-488a-9138-60a39f793427"
      },
      "source": [
        "bool_series_ehp = pd.isnull(car_data[\"Engine HP\"])  # for 5th column 'Engine HP'\n",
        "car_data[bool_series_ehp].shape                     # Number of null values\n"
      ],
      "execution_count": 12,
      "outputs": [
        {
          "output_type": "execute_result",
          "data": {
            "text/plain": [
              "(69, 16)"
            ]
          },
          "metadata": {
            "tags": []
          },
          "execution_count": 12
        }
      ]
    },
    {
      "cell_type": "code",
      "metadata": {
        "id": "dRH4KBzFRsj9",
        "colab_type": "code",
        "colab": {
          "base_uri": "https://localhost:8080/",
          "height": 34
        },
        "outputId": "43bfc3de-a304-427a-a631-e2dee8de1db6"
      },
      "source": [
        "bool_series_ecy= pd.isnull(car_data[\"Engine Cylinders\"])  # for 6th column 'Engine Cylinders'\n",
        "car_data[bool_series_ecy].shape                           # Number of null values\n"
      ],
      "execution_count": 13,
      "outputs": [
        {
          "output_type": "execute_result",
          "data": {
            "text/plain": [
              "(30, 16)"
            ]
          },
          "metadata": {
            "tags": []
          },
          "execution_count": 13
        }
      ]
    },
    {
      "cell_type": "code",
      "metadata": {
        "id": "fhQZSJPSRwgB",
        "colab_type": "code",
        "colab": {
          "base_uri": "https://localhost:8080/",
          "height": 34
        },
        "outputId": "cfdea361-4279-4fb0-fc4e-32da091bafcb"
      },
      "source": [
        "bool_series_ttype = pd.isnull(car_data[\"Transmission Type\"])  # for 7th column 'Transmission Type'\n",
        "car_data[bool_series_ttype].shape                             # Number of null values\n"
      ],
      "execution_count": 14,
      "outputs": [
        {
          "output_type": "execute_result",
          "data": {
            "text/plain": [
              "(0, 16)"
            ]
          },
          "metadata": {
            "tags": []
          },
          "execution_count": 14
        }
      ]
    },
    {
      "cell_type": "code",
      "metadata": {
        "id": "hEsqPHaTRyk8",
        "colab_type": "code",
        "colab": {
          "base_uri": "https://localhost:8080/",
          "height": 34
        },
        "outputId": "019992ea-fd18-4ce8-fea7-f4352dda556c"
      },
      "source": [
        "bool_series_dwheel = pd.isnull(car_data[\"Driven_Wheels\"])  # for 8th column 'Driven_Wheels'\n",
        "car_data[bool_series_dwheel].shape                         # Number of null values\n"
      ],
      "execution_count": 15,
      "outputs": [
        {
          "output_type": "execute_result",
          "data": {
            "text/plain": [
              "(0, 16)"
            ]
          },
          "metadata": {
            "tags": []
          },
          "execution_count": 15
        }
      ]
    },
    {
      "cell_type": "code",
      "metadata": {
        "id": "Q3zNv_aFR0Gk",
        "colab_type": "code",
        "colab": {
          "base_uri": "https://localhost:8080/",
          "height": 34
        },
        "outputId": "adebd247-df49-4079-95a9-70188ce1eeff"
      },
      "source": [
        "bool_series_doors = pd.isnull(car_data[\"Number of Doors\"])  # for 9th column 'Number of Doors'\n",
        "car_data[bool_series_doors].shape                           # Number of null values\n"
      ],
      "execution_count": 16,
      "outputs": [
        {
          "output_type": "execute_result",
          "data": {
            "text/plain": [
              "(6, 16)"
            ]
          },
          "metadata": {
            "tags": []
          },
          "execution_count": 16
        }
      ]
    },
    {
      "cell_type": "code",
      "metadata": {
        "id": "wxPjPUOhR1ry",
        "colab_type": "code",
        "colab": {
          "base_uri": "https://localhost:8080/",
          "height": 34
        },
        "outputId": "7650dee5-016f-435f-f366-55105b7da2a1"
      },
      "source": [
        "bool_series_market = pd.isnull(car_data[\"Market Category\"])  # for 10th column 'Market Category'\n",
        "car_data[bool_series_market].shape                           # Number of null values\n"
      ],
      "execution_count": 17,
      "outputs": [
        {
          "output_type": "execute_result",
          "data": {
            "text/plain": [
              "(3742, 16)"
            ]
          },
          "metadata": {
            "tags": []
          },
          "execution_count": 17
        }
      ]
    },
    {
      "cell_type": "code",
      "metadata": {
        "id": "F3DYjkIAR3he",
        "colab_type": "code",
        "colab": {
          "base_uri": "https://localhost:8080/",
          "height": 34
        },
        "outputId": "65d8495c-40e4-424e-c201-7619f73f9ac9"
      },
      "source": [
        "bool_series_vsize = pd.isnull(car_data[\"Vehicle Size\"])  # for 11th column 'Vehicle Size'\n",
        "car_data[bool_series_vsize].shape                        # Number of null values\n"
      ],
      "execution_count": 18,
      "outputs": [
        {
          "output_type": "execute_result",
          "data": {
            "text/plain": [
              "(0, 16)"
            ]
          },
          "metadata": {
            "tags": []
          },
          "execution_count": 18
        }
      ]
    },
    {
      "cell_type": "code",
      "metadata": {
        "id": "jwzW5ygSR42e",
        "colab_type": "code",
        "colab": {
          "base_uri": "https://localhost:8080/",
          "height": 34
        },
        "outputId": "d1c1e579-53c3-439c-8efc-643c8bd7400a"
      },
      "source": [
        "bool_series_vstyle = pd.isnull(car_data[\"Vehicle Style\"])  # for 12th column 'Vehicle Style'\n",
        "car_data[bool_series_vstyle].shape                         # Number of null values\n"
      ],
      "execution_count": 19,
      "outputs": [
        {
          "output_type": "execute_result",
          "data": {
            "text/plain": [
              "(0, 16)"
            ]
          },
          "metadata": {
            "tags": []
          },
          "execution_count": 19
        }
      ]
    },
    {
      "cell_type": "code",
      "metadata": {
        "id": "fRH5uYsGR6EW",
        "colab_type": "code",
        "colab": {
          "base_uri": "https://localhost:8080/",
          "height": 34
        },
        "outputId": "7b2b4e7a-c618-4326-b53b-8cd7c68c02f3"
      },
      "source": [
        "bool_series_highway = pd.isnull(car_data[\"highway MPG\"])  # for 13th column 'highway MPG'\n",
        "car_data[bool_series_highway].shape                       # Number of null values\n"
      ],
      "execution_count": 20,
      "outputs": [
        {
          "output_type": "execute_result",
          "data": {
            "text/plain": [
              "(0, 16)"
            ]
          },
          "metadata": {
            "tags": []
          },
          "execution_count": 20
        }
      ]
    },
    {
      "cell_type": "code",
      "metadata": {
        "id": "k-449p1pR7g_",
        "colab_type": "code",
        "colab": {
          "base_uri": "https://localhost:8080/",
          "height": 34
        },
        "outputId": "e85d06c7-d964-48b0-e611-784fe5a47636"
      },
      "source": [
        "bool_series_city = pd.isnull(car_data[\"city mpg\"])  # for 14th column 'city mpg'\n",
        "car_data[bool_series_city].shape                    # Number of null values\n"
      ],
      "execution_count": 21,
      "outputs": [
        {
          "output_type": "execute_result",
          "data": {
            "text/plain": [
              "(0, 16)"
            ]
          },
          "metadata": {
            "tags": []
          },
          "execution_count": 21
        }
      ]
    },
    {
      "cell_type": "code",
      "metadata": {
        "id": "aarIRXdcR9DP",
        "colab_type": "code",
        "colab": {
          "base_uri": "https://localhost:8080/",
          "height": 34
        },
        "outputId": "3aac5042-fbd9-4991-eac2-ec4ed85eb649"
      },
      "source": [
        "bool_series_popular= pd.isnull(car_data[\"Popularity\"])  # for 15th column 'Popularity'\n",
        "car_data[bool_series_popular].shape                     # Number of null values\n"
      ],
      "execution_count": 22,
      "outputs": [
        {
          "output_type": "execute_result",
          "data": {
            "text/plain": [
              "(0, 16)"
            ]
          },
          "metadata": {
            "tags": []
          },
          "execution_count": 22
        }
      ]
    },
    {
      "cell_type": "code",
      "metadata": {
        "id": "TvOxKcglR-3P",
        "colab_type": "code",
        "colab": {
          "base_uri": "https://localhost:8080/",
          "height": 34
        },
        "outputId": "76723454-055d-4967-c3dc-136698cb5295"
      },
      "source": [
        "bool_series_msrp = pd.isnull(car_data[\"MSRP\"])  # for 16th column 'MSRP'\n",
        "car_data[bool_series_msrp].shape                # Number of null values"
      ],
      "execution_count": 23,
      "outputs": [
        {
          "output_type": "execute_result",
          "data": {
            "text/plain": [
              "(0, 16)"
            ]
          },
          "metadata": {
            "tags": []
          },
          "execution_count": 23
        }
      ]
    },
    {
      "cell_type": "markdown",
      "metadata": {
        "id": "Xs-23NfVSiU3",
        "colab_type": "text"
      },
      "source": [
        "# Step 2:-\n"
      ]
    },
    {
      "cell_type": "markdown",
      "metadata": {
        "id": "KM0gwbPcTSz7",
        "colab_type": "text"
      },
      "source": [
        "**Removing the columns which are of less Relevance**"
      ]
    },
    {
      "cell_type": "code",
      "metadata": {
        "id": "Cph2dfUzWS-b",
        "colab_type": "code",
        "colab": {}
      },
      "source": [
        "car_data=car_data.drop(\"Market Category\",1)"
      ],
      "execution_count": 24,
      "outputs": []
    },
    {
      "cell_type": "code",
      "metadata": {
        "id": "dSwsGkweW-Re",
        "colab_type": "code",
        "colab": {
          "base_uri": "https://localhost:8080/",
          "height": 286
        },
        "outputId": "708c5770-3f6c-443b-e4c9-5f0cd0d2d701"
      },
      "source": [
        "car_data.dtypes  #checking for successful deletion"
      ],
      "execution_count": 25,
      "outputs": [
        {
          "output_type": "execute_result",
          "data": {
            "text/plain": [
              "Make                  object\n",
              "Model                 object\n",
              "Year                   int64\n",
              "Engine Fuel Type      object\n",
              "Engine HP            float64\n",
              "Engine Cylinders     float64\n",
              "Transmission Type     object\n",
              "Driven_Wheels         object\n",
              "Number of Doors      float64\n",
              "Vehicle Size          object\n",
              "Vehicle Style         object\n",
              "highway MPG            int64\n",
              "city mpg               int64\n",
              "Popularity             int64\n",
              "MSRP                   int64\n",
              "dtype: object"
            ]
          },
          "metadata": {
            "tags": []
          },
          "execution_count": 25
        }
      ]
    },
    {
      "cell_type": "markdown",
      "metadata": {
        "id": "fkqDR7AoXKZf",
        "colab_type": "text"
      },
      "source": [
        "Here the column 'Market Category' was omitted since it contained more than 25% Null Values and therefore it was of less relevance."
      ]
    },
    {
      "cell_type": "markdown",
      "metadata": {
        "id": "OMM3a9OMXeBW",
        "colab_type": "text"
      },
      "source": [
        "# Step 3:-"
      ]
    },
    {
      "cell_type": "markdown",
      "metadata": {
        "id": "hnSDCIWrBfvd",
        "colab_type": "text"
      },
      "source": [
        "**Renaming the following columns \"Engine HP\": \"HP\", \"Engine Cylinders\": \"Cylinders\", \"Transmission Type\": \"Transmission\", \"Driven_Wheels\": \"Drive Mode\",\"highway MPG\": \"MPG-H\", \"city mpg\": \"MPG-C\", \"MSRP\": \"Price\"**"
      ]
    },
    {
      "cell_type": "code",
      "metadata": {
        "id": "Vf2zv6nNBntK",
        "colab_type": "code",
        "colab": {
          "base_uri": "https://localhost:8080/",
          "height": 84
        },
        "outputId": "51b66657-cae7-44b5-d17f-1684a0ac902a"
      },
      "source": [
        "car_data.rename(columns = {\"Engine HP\": \"HP\", \"Engine Cylinders\": \"Cylinders\", \"Transmission Type\": \"Transmission\", \"Driven_Wheels\": \"Drive Mode\",\"highway MPG\": \"MPG-H\", \"city mpg\": \"MPG-C\", \"MSRP\": \"Price\"}, inplace = True)\n",
        "\n",
        "print(car_data.columns) #to check the implementation of rename changes"
      ],
      "execution_count": 26,
      "outputs": [
        {
          "output_type": "stream",
          "text": [
            "Index(['Make', 'Model', 'Year', 'Engine Fuel Type', 'HP', 'Cylinders',\n",
            "       'Transmission', 'Drive Mode', 'Number of Doors', 'Vehicle Size',\n",
            "       'Vehicle Style', 'MPG-H', 'MPG-C', 'Popularity', 'Price'],\n",
            "      dtype='object')\n"
          ],
          "name": "stdout"
        }
      ]
    },
    {
      "cell_type": "markdown",
      "metadata": {
        "id": "TbPb63nXDTt0",
        "colab_type": "text"
      },
      "source": [
        "# Step 4:-"
      ]
    },
    {
      "cell_type": "markdown",
      "metadata": {
        "id": "VhOVYFeTDavY",
        "colab_type": "text"
      },
      "source": [
        "**(a) Searching & Removing Duplicates in the Data**"
      ]
    },
    {
      "cell_type": "code",
      "metadata": {
        "id": "GkgVadJDDTCw",
        "colab_type": "code",
        "colab": {
          "base_uri": "https://localhost:8080/",
          "height": 34
        },
        "outputId": "ee3f42b0-ec79-4105-b386-8a9126d80614"
      },
      "source": [
        "duplicate_rows_data = car_data[car_data.duplicated()] # Searching for duplicate data\n",
        "print(\"Number of duplicate rows: \", duplicate_rows_data.shape)"
      ],
      "execution_count": 27,
      "outputs": [
        {
          "output_type": "stream",
          "text": [
            "Number of duplicate rows:  (720, 15)\n"
          ],
          "name": "stdout"
        }
      ]
    },
    {
      "cell_type": "code",
      "metadata": {
        "id": "gpCkZHRkD_7X",
        "colab_type": "code",
        "colab": {
          "base_uri": "https://localhost:8080/",
          "height": 34
        },
        "outputId": "83c4a70b-ed1b-4d5b-8d01-9ebe0babf2b7"
      },
      "source": [
        "car_data = car_data.drop_duplicates() # Clearing the duplicate data found\n",
        "print('Shape of the dataset after clearing duplicate data :',car_data.shape)"
      ],
      "execution_count": 28,
      "outputs": [
        {
          "output_type": "stream",
          "text": [
            "Shape of the dataset after clearing duplicate data : (11194, 15)\n"
          ],
          "name": "stdout"
        }
      ]
    },
    {
      "cell_type": "markdown",
      "metadata": {
        "id": "PKSNHmIsEaK0",
        "colab_type": "text"
      },
      "source": [
        "**(b) Searching and Removing Null Values/Missing values from Data ***"
      ]
    },
    {
      "cell_type": "markdown",
      "metadata": {
        "id": "QsHqA87PKIeJ",
        "colab_type": "text"
      },
      "source": [
        "Since we have already found the null values we will now replace them according to their datatypes.\n",
        "example- In the case of 'float values' we will replace the null values by 'mean' and in the case of 'categorical values' we will replace the null values by 'mode'"
      ]
    },
    {
      "cell_type": "markdown",
      "metadata": {
        "id": "8yL5pHPtK3HP",
        "colab_type": "text"
      },
      "source": [
        "**(i) 'Engine fuel type' is categorical valued column thus replacing the null values here with mode**"
      ]
    },
    {
      "cell_type": "code",
      "metadata": {
        "id": "TqT9tzGWKG1E",
        "colab_type": "code",
        "colab": {
          "base_uri": "https://localhost:8080/",
          "height": 67
        },
        "outputId": "590bd3d5-646e-4add-c405-414790e6f57d"
      },
      "source": [
        "mode=car_data['Engine Fuel Type'].mode()  # Checking for mode value\n",
        "print(\"Mode : \")\n",
        "mode"
      ],
      "execution_count": 29,
      "outputs": [
        {
          "output_type": "stream",
          "text": [
            "Mode : \n"
          ],
          "name": "stdout"
        },
        {
          "output_type": "execute_result",
          "data": {
            "text/plain": [
              "0    regular unleaded\n",
              "dtype: object"
            ]
          },
          "metadata": {
            "tags": []
          },
          "execution_count": 29
        }
      ]
    },
    {
      "cell_type": "code",
      "metadata": {
        "id": "kSDGPoFdLaTZ",
        "colab_type": "code",
        "colab": {
          "base_uri": "https://localhost:8080/",
          "height": 50
        },
        "outputId": "15cae981-29de-484e-efb5-65e4d56cb878"
      },
      "source": [
        "car_data[\"Engine Fuel Type\"]=car_data[\"Engine Fuel Type\"].fillna('regular unleaded') # Replacing null by mode\n",
        "bool_series_egt = pd.isnull(car_data[\"Engine Fuel Type\"])  \n",
        "print(\"After replacing null values, number of nulls in column 'Engine Fuel Type':\")\n",
        "car_data[bool_series_egt].shape\n"
      ],
      "execution_count": 30,
      "outputs": [
        {
          "output_type": "stream",
          "text": [
            "After replacing null values, number of nulls in column 'Engine Fuel Type':\n"
          ],
          "name": "stdout"
        },
        {
          "output_type": "execute_result",
          "data": {
            "text/plain": [
              "(0, 15)"
            ]
          },
          "metadata": {
            "tags": []
          },
          "execution_count": 30
        }
      ]
    },
    {
      "cell_type": "markdown",
      "metadata": {
        "id": "rx2w3-Z1Lgwk",
        "colab_type": "text"
      },
      "source": [
        "**(ii) 'Engine HP' is real valued column so we replace null values by mean**"
      ]
    },
    {
      "cell_type": "code",
      "metadata": {
        "id": "jYEnPFQWL9gb",
        "colab_type": "code",
        "colab": {
          "base_uri": "https://localhost:8080/",
          "height": 50
        },
        "outputId": "6af113ed-f07f-41e6-a6a7-a8f931e5b5ab"
      },
      "source": [
        "mean=car_data['HP'].mean()  # Checking for mean value\n",
        "print(\"Mean : \")\n",
        "mean"
      ],
      "execution_count": 31,
      "outputs": [
        {
          "output_type": "stream",
          "text": [
            "Mean : \n"
          ],
          "name": "stdout"
        },
        {
          "output_type": "execute_result",
          "data": {
            "text/plain": [
              "253.3905617977528"
            ]
          },
          "metadata": {
            "tags": []
          },
          "execution_count": 31
        }
      ]
    },
    {
      "cell_type": "code",
      "metadata": {
        "id": "qssfTeCsMAfg",
        "colab_type": "code",
        "colab": {
          "base_uri": "https://localhost:8080/",
          "height": 50
        },
        "outputId": "a08e1800-0335-4561-94f4-44c622f49aa3"
      },
      "source": [
        "car_data[\"HP\"]=car_data[\"HP\"].fillna(mean) # Replacing null by mean\n",
        "bool_series_egt = pd.isnull(car_data[\"HP\"])  \n",
        "print(\"After replacing null values,number of nulls in column 'HP':\")\n",
        "car_data[bool_series_egt].shape"
      ],
      "execution_count": 32,
      "outputs": [
        {
          "output_type": "stream",
          "text": [
            "After replacing null values,number of nulls in column 'HP':\n"
          ],
          "name": "stdout"
        },
        {
          "output_type": "execute_result",
          "data": {
            "text/plain": [
              "(0, 15)"
            ]
          },
          "metadata": {
            "tags": []
          },
          "execution_count": 32
        }
      ]
    },
    {
      "cell_type": "markdown",
      "metadata": {
        "id": "k4eh-t9-MUuK",
        "colab_type": "text"
      },
      "source": [
        "**(iii) 'Engine cylinders' is categorical value hence replacing null** **values by mode** "
      ]
    },
    {
      "cell_type": "code",
      "metadata": {
        "id": "F7gAqnddM1fT",
        "colab_type": "code",
        "colab": {
          "base_uri": "https://localhost:8080/",
          "height": 67
        },
        "outputId": "0e46dbcd-d44c-456f-d998-36e8585c7ffa"
      },
      "source": [
        "mode=car_data['Cylinders'].mode()  # Checking for mode value\n",
        "print(\"Mode : \")\n",
        "mode"
      ],
      "execution_count": 33,
      "outputs": [
        {
          "output_type": "stream",
          "text": [
            "Mode : \n"
          ],
          "name": "stdout"
        },
        {
          "output_type": "execute_result",
          "data": {
            "text/plain": [
              "0    4.0\n",
              "dtype: float64"
            ]
          },
          "metadata": {
            "tags": []
          },
          "execution_count": 33
        }
      ]
    },
    {
      "cell_type": "code",
      "metadata": {
        "id": "v263iSqiNBnH",
        "colab_type": "code",
        "colab": {
          "base_uri": "https://localhost:8080/",
          "height": 50
        },
        "outputId": "293295f0-69d6-4e78-e187-d89a8325d316"
      },
      "source": [
        "car_data[\"Cylinders\"]=car_data[\"Cylinders\"].fillna(4.0) # Replacing null by mode\n",
        "bool_series_egt = pd.isnull(car_data[\"Cylinders\"]) \n",
        "print(\"After replacing null values, number of nulls in column 'Cylinders':\") \n",
        "car_data[bool_series_egt].shape\n"
      ],
      "execution_count": 34,
      "outputs": [
        {
          "output_type": "stream",
          "text": [
            "After replacing null values, number of nulls in column 'Cylinders':\n"
          ],
          "name": "stdout"
        },
        {
          "output_type": "execute_result",
          "data": {
            "text/plain": [
              "(0, 15)"
            ]
          },
          "metadata": {
            "tags": []
          },
          "execution_count": 34
        }
      ]
    },
    {
      "cell_type": "markdown",
      "metadata": {
        "id": "GnpHmKThNKyu",
        "colab_type": "text"
      },
      "source": [
        "**(iv) 'Number of doors' is categorical values hence replacing null values by mode**"
      ]
    },
    {
      "cell_type": "code",
      "metadata": {
        "id": "A6i2F1IxNc3y",
        "colab_type": "code",
        "colab": {
          "base_uri": "https://localhost:8080/",
          "height": 67
        },
        "outputId": "dba84324-5145-45b2-872e-03c6799b7ba0"
      },
      "source": [
        "mode=car_data['Number of Doors'].mode() # Checking for mode value\n",
        "print(\"Mode : \")\n",
        "mode"
      ],
      "execution_count": 35,
      "outputs": [
        {
          "output_type": "stream",
          "text": [
            "Mode : \n"
          ],
          "name": "stdout"
        },
        {
          "output_type": "execute_result",
          "data": {
            "text/plain": [
              "0    4.0\n",
              "dtype: float64"
            ]
          },
          "metadata": {
            "tags": []
          },
          "execution_count": 35
        }
      ]
    },
    {
      "cell_type": "code",
      "metadata": {
        "id": "Dk2-e_ngNhjf",
        "colab_type": "code",
        "colab": {
          "base_uri": "https://localhost:8080/",
          "height": 50
        },
        "outputId": "3fac8662-dee7-4860-e85c-5f53c5341f12"
      },
      "source": [
        "car_data[\"Number of Doors\"]=car_data[\"Number of Doors\"].fillna(4.0) # Replacing null by mode\n",
        "bool_series_egt = pd.isnull(car_data[\"Number of Doors\"])  \n",
        "print(\"After replacing null values, number of nulls in column 'Number of Doors':\") \n",
        "car_data[bool_series_egt].shape"
      ],
      "execution_count": 36,
      "outputs": [
        {
          "output_type": "stream",
          "text": [
            "After replacing null values, number of nulls in column 'Number of Doors':\n"
          ],
          "name": "stdout"
        },
        {
          "output_type": "execute_result",
          "data": {
            "text/plain": [
              "(0, 15)"
            ]
          },
          "metadata": {
            "tags": []
          },
          "execution_count": 36
        }
      ]
    },
    {
      "cell_type": "markdown",
      "metadata": {
        "id": "l-rCACLtNooB",
        "colab_type": "text"
      },
      "source": [
        "**Hence we have successfully removed all the null/missing values as well as duplicate values from the dataset.**"
      ]
    },
    {
      "cell_type": "code",
      "metadata": {
        "id": "SrQ2373eN5zl",
        "colab_type": "code",
        "colab": {
          "base_uri": "https://localhost:8080/",
          "height": 50
        },
        "outputId": "01728d2c-c04f-4588-f718-7665a098e279"
      },
      "source": [
        "print('Total number of rows and columns without null/missing values and duplicates:')\n",
        "car_data.shape"
      ],
      "execution_count": 37,
      "outputs": [
        {
          "output_type": "stream",
          "text": [
            "Total number of rows and columns without null/missing values and duplicates:\n"
          ],
          "name": "stdout"
        },
        {
          "output_type": "execute_result",
          "data": {
            "text/plain": [
              "(11194, 15)"
            ]
          },
          "metadata": {
            "tags": []
          },
          "execution_count": 37
        }
      ]
    },
    {
      "cell_type": "markdown",
      "metadata": {
        "id": "srLYtqeZOZwO",
        "colab_type": "text"
      },
      "source": [
        "# Step 5:-"
      ]
    },
    {
      "cell_type": "markdown",
      "metadata": {
        "id": "E_gvsr7TOcgg",
        "colab_type": "text"
      },
      "source": [
        "**Plotting Graphs for various columns in order to check outliers and further removing them from our dataset**"
      ]
    },
    {
      "cell_type": "code",
      "metadata": {
        "id": "AVc6KgVxPGr2",
        "colab_type": "code",
        "colab": {
          "base_uri": "https://localhost:8080/",
          "height": 286
        },
        "outputId": "046b74d8-b462-4bd4-a3e5-2f5f849c8024"
      },
      "source": [
        "car_data.dtypes #To check datatypes of columns as we can only plot floats and integers"
      ],
      "execution_count": 38,
      "outputs": [
        {
          "output_type": "execute_result",
          "data": {
            "text/plain": [
              "Make                 object\n",
              "Model                object\n",
              "Year                  int64\n",
              "Engine Fuel Type     object\n",
              "HP                  float64\n",
              "Cylinders           float64\n",
              "Transmission         object\n",
              "Drive Mode           object\n",
              "Number of Doors     float64\n",
              "Vehicle Size         object\n",
              "Vehicle Style        object\n",
              "MPG-H                 int64\n",
              "MPG-C                 int64\n",
              "Popularity            int64\n",
              "Price                 int64\n",
              "dtype: object"
            ]
          },
          "metadata": {
            "tags": []
          },
          "execution_count": 38
        }
      ]
    },
    {
      "cell_type": "markdown",
      "metadata": {
        "id": "Ncs-p196PlDW",
        "colab_type": "text"
      },
      "source": [
        "**For finding outliers, we will plot box plot of 'HP', 'MPG-H', 'MPG-C', 'Popularity' and 'Price'. Although 'Year' and 'Cylinders' have datatype as integer and float respectively, we will not plot the box plot of these columns because these two columns will not affect the 'Price' column significantly which is our target value.**"
      ]
    },
    {
      "cell_type": "markdown",
      "metadata": {
        "id": "F0G9Oy8OPt4m",
        "colab_type": "text"
      },
      "source": [
        "**(i) Box plot of 'HP'**"
      ]
    },
    {
      "cell_type": "code",
      "metadata": {
        "id": "j-FohbDpPdG5",
        "colab_type": "code",
        "colab": {
          "base_uri": "https://localhost:8080/",
          "height": 265
        },
        "outputId": "bd8cdeea-c879-492c-d708-dcb1e98cf70c"
      },
      "source": [
        "boxplot = car_data.boxplot(column=['HP'])"
      ],
      "execution_count": 39,
      "outputs": [
        {
          "output_type": "display_data",
          "data": {
            "image/png": "[encoded data removed]",
            "text/plain": [
              "<Figure size 432x288 with 1 Axes>"
            ]
          },
          "metadata": {
            "tags": [],
            "needs_background": "light"
          }
        }
      ]
    },
    {
      "cell_type": "code",
      "metadata": {
        "id": "Ev2v18SCP6HZ",
        "colab_type": "code",
        "colab": {
          "base_uri": "https://localhost:8080/",
          "height": 185
        },
        "outputId": "b1d189bf-3169-4b4b-dcd7-12f50751285f"
      },
      "source": [
        "print(\"For column 'HP' :\")\n",
        "car_data['HP'].describe()  #for statistical info"
      ],
      "execution_count": 40,
      "outputs": [
        {
          "output_type": "stream",
          "text": [
            "For column 'HP' :\n"
          ],
          "name": "stdout"
        },
        {
          "output_type": "execute_result",
          "data": {
            "text/plain": [
              "count    11194.000000\n",
              "mean       253.390562\n",
              "std        109.830525\n",
              "min         55.000000\n",
              "25%        172.000000\n",
              "50%        240.000000\n",
              "75%        303.000000\n",
              "max       1001.000000\n",
              "Name: HP, dtype: float64"
            ]
          },
          "metadata": {
            "tags": []
          },
          "execution_count": 40
        }
      ]
    },
    {
      "cell_type": "code",
      "metadata": {
        "id": "YlBVLazSQBOs",
        "colab_type": "code",
        "colab": {
          "base_uri": "https://localhost:8080/",
          "height": 185
        },
        "outputId": "04509ddb-4895-4d50-f0f5-bdab37f50bb1"
      },
      "source": [
        "index = car_data[(car_data['HP'] >= 303*1.5)|(car_data['HP'] <= 172/1.5)].index \n",
        "car_data.drop(index, inplace=True) #Removing the outliers\n",
        "print(\"After removing Outliers: \", car_data.shape)\n",
        "car_data['HP'].describe() #for statistical info after removal of outliers"
      ],
      "execution_count": 41,
      "outputs": [
        {
          "output_type": "stream",
          "text": [
            "After removing Outliers:  (10118, 15)\n"
          ],
          "name": "stdout"
        },
        {
          "output_type": "execute_result",
          "data": {
            "text/plain": [
              "count    10118.000000\n",
              "mean       242.041604\n",
              "std         79.261416\n",
              "min        115.000000\n",
              "25%        175.000000\n",
              "50%        236.000000\n",
              "75%        295.000000\n",
              "max        454.000000\n",
              "Name: HP, dtype: float64"
            ]
          },
          "metadata": {
            "tags": []
          },
          "execution_count": 41
        }
      ]
    },
    {
      "cell_type": "markdown",
      "metadata": {
        "id": "rLYfsogxQUE1",
        "colab_type": "text"
      },
      "source": [
        "**(ii) Box plot of 'MPG-H'**"
      ]
    },
    {
      "cell_type": "code",
      "metadata": {
        "id": "HnPyebxyQaWd",
        "colab_type": "code",
        "colab": {
          "base_uri": "https://localhost:8080/",
          "height": 265
        },
        "outputId": "3f45981a-a537-45e4-aebe-4db519ef3cd1"
      },
      "source": [
        "boxplot = car_data.boxplot(column=['MPG-H'])"
      ],
      "execution_count": 42,
      "outputs": [
        {
          "output_type": "display_data",
          "data": {
            "image/png": "[encoded data removed]",
            "text/plain": [
              "<Figure size 432x288 with 1 Axes>"
            ]
          },
          "metadata": {
            "tags": [],
            "needs_background": "light"
          }
        }
      ]
    },
    {
      "cell_type": "code",
      "metadata": {
        "id": "a-uotqieQfE3",
        "colab_type": "code",
        "colab": {
          "base_uri": "https://localhost:8080/",
          "height": 185
        },
        "outputId": "e76b3911-26ab-457f-9f15-7e33ca093a65"
      },
      "source": [
        "print(\" For column 'MPG-H' :\")\n",
        "car_data['MPG-H'].describe() #For Statistical info\n"
      ],
      "execution_count": 43,
      "outputs": [
        {
          "output_type": "stream",
          "text": [
            " For column 'MPG-H' :\n"
          ],
          "name": "stdout"
        },
        {
          "output_type": "execute_result",
          "data": {
            "text/plain": [
              "count    10118.000000\n",
              "mean        26.651314\n",
              "std          8.998390\n",
              "min         12.000000\n",
              "25%         22.000000\n",
              "50%         26.000000\n",
              "75%         30.000000\n",
              "max        354.000000\n",
              "Name: MPG-H, dtype: float64"
            ]
          },
          "metadata": {
            "tags": []
          },
          "execution_count": 43
        }
      ]
    },
    {
      "cell_type": "code",
      "metadata": {
        "id": "PO7oAtnwQlLJ",
        "colab_type": "code",
        "colab": {
          "base_uri": "https://localhost:8080/",
          "height": 202
        },
        "outputId": "0e19045c-bc4c-498f-9b69-e6961c3bbafb"
      },
      "source": [
        "print(\"Before removing Outliers: \",car_data.shape)\n",
        "index = car_data[(car_data['MPG-H'] >= 30*1.5)|(car_data['MPG-H'] <= 22/1.5)].index\n",
        "car_data.drop(index, inplace=True) #Removing the outliers\n",
        "print(\"After removing Outliers: \",car_data.shape)\n",
        "car_data['MPG-H'].describe()  #For Statistical info after removing outliers"
      ],
      "execution_count": 44,
      "outputs": [
        {
          "output_type": "stream",
          "text": [
            "Before removing Outliers:  (10118, 15)\n",
            "After removing Outliers:  (9964, 15)\n"
          ],
          "name": "stdout"
        },
        {
          "output_type": "execute_result",
          "data": {
            "text/plain": [
              "count    9964.000000\n",
              "mean       26.074769\n",
              "std         5.776625\n",
              "min        15.000000\n",
              "25%        22.000000\n",
              "50%        26.000000\n",
              "75%        30.000000\n",
              "max        44.000000\n",
              "Name: MPG-H, dtype: float64"
            ]
          },
          "metadata": {
            "tags": []
          },
          "execution_count": 44
        }
      ]
    },
    {
      "cell_type": "markdown",
      "metadata": {
        "id": "R9LyaJWqQ9k4",
        "colab_type": "text"
      },
      "source": [
        "**(iii) Box plot of 'MPG_C'**"
      ]
    },
    {
      "cell_type": "code",
      "metadata": {
        "id": "hW73GNL5Q7eX",
        "colab_type": "code",
        "colab": {
          "base_uri": "https://localhost:8080/",
          "height": 265
        },
        "outputId": "8bb3ca7d-4239-499f-b2c1-24a63530b7ac"
      },
      "source": [
        "boxplot = car_data.boxplot(column=['MPG-C'])"
      ],
      "execution_count": 45,
      "outputs": [
        {
          "output_type": "display_data",
          "data": {
            "image/png": "[encoded data removed]",
            "text/plain": [
              "<Figure size 432x288 with 1 Axes>"
            ]
          },
          "metadata": {
            "tags": [],
            "needs_background": "light"
          }
        }
      ]
    },
    {
      "cell_type": "code",
      "metadata": {
        "id": "uZT1L475RPT4",
        "colab_type": "code",
        "colab": {
          "base_uri": "https://localhost:8080/",
          "height": 185
        },
        "outputId": "915b9187-043a-4fa6-e1dc-79d11c102fa1"
      },
      "source": [
        "print(\"For column 'MPG-C' :\")\n",
        "car_data['MPG-C'].describe() #For Statistical info"
      ],
      "execution_count": 46,
      "outputs": [
        {
          "output_type": "stream",
          "text": [
            "For column 'MPG-C' :\n"
          ],
          "name": "stdout"
        },
        {
          "output_type": "execute_result",
          "data": {
            "text/plain": [
              "count    9964.000000\n",
              "mean       19.054396\n",
              "std         4.771971\n",
              "min         9.000000\n",
              "25%        16.000000\n",
              "50%        18.000000\n",
              "75%        22.000000\n",
              "max        49.000000\n",
              "Name: MPG-C, dtype: float64"
            ]
          },
          "metadata": {
            "tags": []
          },
          "execution_count": 46
        }
      ]
    },
    {
      "cell_type": "code",
      "metadata": {
        "id": "yHC_fFIVRS6h",
        "colab_type": "code",
        "colab": {
          "base_uri": "https://localhost:8080/",
          "height": 202
        },
        "outputId": "a31a5317-0434-4ebe-f1e3-d7d69fc828d7"
      },
      "source": [
        "print(\"Before removing Outliers: \",car_data.shape)\n",
        "index = car_data[(car_data['MPG-C'] >= 22*1.5)|(car_data['MPG-C'] <= 16/1.5)].index\n",
        "car_data.drop(index, inplace=True) #Removing the outliers\n",
        "print(\"After removing Outliers: \",car_data.shape)\n",
        "car_data['MPG-C'].describe()  #For Statistical info after removing outliers"
      ],
      "execution_count": 47,
      "outputs": [
        {
          "output_type": "stream",
          "text": [
            "Before removing Outliers:  (9964, 15)\n",
            "After removing Outliers:  (9808, 15)\n"
          ],
          "name": "stdout"
        },
        {
          "output_type": "execute_result",
          "data": {
            "text/plain": [
              "count    9808.000000\n",
              "mean       18.864396\n",
              "std         4.244871\n",
              "min        11.000000\n",
              "25%        16.000000\n",
              "50%        18.000000\n",
              "75%        22.000000\n",
              "max        32.000000\n",
              "Name: MPG-C, dtype: float64"
            ]
          },
          "metadata": {
            "tags": []
          },
          "execution_count": 47
        }
      ]
    },
    {
      "cell_type": "markdown",
      "metadata": {
        "id": "aDE5B5QpRa0K",
        "colab_type": "text"
      },
      "source": [
        "**(iv) Box plot of 'Popularity'**"
      ]
    },
    {
      "cell_type": "code",
      "metadata": {
        "id": "6MYNM35FRaPT",
        "colab_type": "code",
        "colab": {
          "base_uri": "https://localhost:8080/",
          "height": 265
        },
        "outputId": "e1fe6672-326d-44b8-c866-9005cf4ef032"
      },
      "source": [
        "boxplot = car_data.boxplot(column=['Popularity'])"
      ],
      "execution_count": 48,
      "outputs": [
        {
          "output_type": "display_data",
          "data": {
            "image/png": "[encoded data removed]",
            "text/plain": [
              "<Figure size 432x288 with 1 Axes>"
            ]
          },
          "metadata": {
            "tags": [],
            "needs_background": "light"
          }
        }
      ]
    },
    {
      "cell_type": "code",
      "metadata": {
        "id": "CHb6ukAgRpd7",
        "colab_type": "code",
        "colab": {
          "base_uri": "https://localhost:8080/",
          "height": 185
        },
        "outputId": "afdb136d-672d-4bcd-f967-add86ea60ea4"
      },
      "source": [
        "print(\"For column 'Popularity': \")\n",
        "car_data['Popularity'].describe() #For Statistical info"
      ],
      "execution_count": 49,
      "outputs": [
        {
          "output_type": "stream",
          "text": [
            "For column 'Popularity': \n"
          ],
          "name": "stdout"
        },
        {
          "output_type": "execute_result",
          "data": {
            "text/plain": [
              "count    9808.000000\n",
              "mean     1567.934543\n",
              "std      1470.412453\n",
              "min         2.000000\n",
              "25%       549.000000\n",
              "50%      1385.000000\n",
              "75%      2009.000000\n",
              "max      5657.000000\n",
              "Name: Popularity, dtype: float64"
            ]
          },
          "metadata": {
            "tags": []
          },
          "execution_count": 49
        }
      ]
    },
    {
      "cell_type": "code",
      "metadata": {
        "id": "cm8prmhnRsaK",
        "colab_type": "code",
        "colab": {
          "base_uri": "https://localhost:8080/",
          "height": 202
        },
        "outputId": "a57fa7ec-779a-41e6-8f6e-cc04fae42844"
      },
      "source": [
        "print(\"Before removing Outliers: \",car_data.shape)\n",
        "index = car_data[(car_data['Popularity'] >= 2009*1.5)|(car_data['Popularity'] <= 549/1.5)].index\n",
        "car_data.drop(index, inplace=True) #Removing the outliers\n",
        "print(\"After removing Outliers: \",car_data.shape)\n",
        "car_data['Popularity'].describe()  #For Statistical info after removing outliers"
      ],
      "execution_count": 50,
      "outputs": [
        {
          "output_type": "stream",
          "text": [
            "Before removing Outliers:  (9808, 15)\n",
            "After removing Outliers:  (7002, 15)\n"
          ],
          "name": "stdout"
        },
        {
          "output_type": "execute_result",
          "data": {
            "text/plain": [
              "count    7002.000000\n",
              "mean     1253.863468\n",
              "std       604.517303\n",
              "min       376.000000\n",
              "25%       617.000000\n",
              "50%      1385.000000\n",
              "75%      1851.000000\n",
              "max      2774.000000\n",
              "Name: Popularity, dtype: float64"
            ]
          },
          "metadata": {
            "tags": []
          },
          "execution_count": 50
        }
      ]
    },
    {
      "cell_type": "markdown",
      "metadata": {
        "id": "bhFGffgISHAW",
        "colab_type": "text"
      },
      "source": [
        "**(v) Box plot of 'Price'**"
      ]
    },
    {
      "cell_type": "code",
      "metadata": {
        "id": "XCSYJDqfSVR0",
        "colab_type": "code",
        "colab": {
          "base_uri": "https://localhost:8080/",
          "height": 265
        },
        "outputId": "da9729b7-0443-48e9-bbec-95a4a16a5e0e"
      },
      "source": [
        "boxplot = car_data.boxplot(column=['Price'])"
      ],
      "execution_count": 51,
      "outputs": [
        {
          "output_type": "display_data",
          "data": {
            "image/png": "[encoded data removed]",
            "text/plain": [
              "<Figure size 432x288 with 1 Axes>"
            ]
          },
          "metadata": {
            "tags": [],
            "needs_background": "light"
          }
        }
      ]
    },
    {
      "cell_type": "code",
      "metadata": {
        "id": "XtmNKxYASZ0d",
        "colab_type": "code",
        "colab": {
          "base_uri": "https://localhost:8080/",
          "height": 185
        },
        "outputId": "7b9d5ae0-13c0-4be3-f5f3-5709b66bb9d1"
      },
      "source": [
        "print(\"For column 'Price' :\")\n",
        "car_data['Price'].describe() #For Statistical info\n"
      ],
      "execution_count": 52,
      "outputs": [
        {
          "output_type": "stream",
          "text": [
            "For column 'Price' :\n"
          ],
          "name": "stdout"
        },
        {
          "output_type": "execute_result",
          "data": {
            "text/plain": [
              "count      7002.000000\n",
              "mean      30466.074264\n",
              "std       18047.687276\n",
              "min        2000.000000\n",
              "25%       21191.250000\n",
              "50%       28360.000000\n",
              "75%       37650.000000\n",
              "max      195840.000000\n",
              "Name: Price, dtype: float64"
            ]
          },
          "metadata": {
            "tags": []
          },
          "execution_count": 52
        }
      ]
    },
    {
      "cell_type": "code",
      "metadata": {
        "id": "vyehnOkVScYU",
        "colab_type": "code",
        "colab": {
          "base_uri": "https://localhost:8080/",
          "height": 202
        },
        "outputId": "79864059-0b5f-47d9-9180-566dd172e2b0"
      },
      "source": [
        "print(\"Before removing Outliers: \",car_data.shape)\n",
        "index = car_data[(car_data['Price'] >= 37650*1.5)|(car_data['Price'] <= 21191/1.5)].index\n",
        "car_data.drop(index, inplace=True) #Removing the outliers\n",
        "print(\"After removing Outliers: \",car_data.shape)\n",
        "car_data['Price'].describe()  #For Statistical info after removing outliers"
      ],
      "execution_count": 53,
      "outputs": [
        {
          "output_type": "stream",
          "text": [
            "Before removing Outliers:  (7002, 15)\n",
            "After removing Outliers:  (5738, 15)\n"
          ],
          "name": "stdout"
        },
        {
          "output_type": "execute_result",
          "data": {
            "text/plain": [
              "count     5738.000000\n",
              "mean     30541.046532\n",
              "std       9508.921834\n",
              "min      14155.000000\n",
              "25%      23266.250000\n",
              "50%      29120.000000\n",
              "75%      36646.250000\n",
              "max      56425.000000\n",
              "Name: Price, dtype: float64"
            ]
          },
          "metadata": {
            "tags": []
          },
          "execution_count": 53
        }
      ]
    },
    {
      "cell_type": "markdown",
      "metadata": {
        "id": "hbg2YsI2Slgu",
        "colab_type": "text"
      },
      "source": [
        "**Now we have successfully removed the outliers from our dataset and therefore completed the preprocessing of data**"
      ]
    },
    {
      "cell_type": "markdown",
      "metadata": {
        "id": "JrIMh3_kS6a9",
        "colab_type": "text"
      },
      "source": [
        "# Step 6:-"
      ]
    },
    {
      "cell_type": "markdown",
      "metadata": {
        "id": "a4amP_jES9zd",
        "colab_type": "text"
      },
      "source": [
        "**Finding the car brands which are represented the most in our dataset and then finding the average price among the top car brands.**"
      ]
    },
    {
      "cell_type": "markdown",
      "metadata": {
        "id": "8iZe2ucSUAQm",
        "colab_type": "text"
      },
      "source": [
        "We start by adding a new column 'count' in our dataset for counting the frequency of car brand."
      ]
    },
    {
      "cell_type": "code",
      "metadata": {
        "id": "Ql26NoquT-Fb",
        "colab_type": "code",
        "colab": {
          "base_uri": "https://localhost:8080/",
          "height": 502
        },
        "outputId": "1ebf9e33-832a-47c5-edc0-e5a11e0c4df0"
      },
      "source": [
        "make_price=car_data[['Make','Price']]  #All the columns are not needed\n",
        "make_price['count'] = make_price.groupby('Make')['Make'].transform('count')  #Adding new column 'count'\n",
        "make_price\n"
      ],
      "execution_count": 54,
      "outputs": [
        {
          "output_type": "stream",
          "text": [
            "/usr/local/lib/python3.6/dist-packages/ipykernel_launcher.py:2: SettingWithCopyWarning: \n",
            "A value is trying to be set on a copy of a slice from a DataFrame.\n",
            "Try using .loc[row_indexer,col_indexer] = value instead\n",
            "\n",
            "See the caveats in the documentation: https://pandas.pydata.org/pandas-docs/stable/user_guide/indexing.html#returning-a-view-versus-a-copy\n",
            "  \n"
          ],
          "name": "stderr"
        },
        {
          "output_type": "execute_result",
          "data": {
            "text/html": [
              "<div>\n",
              "<style scoped>\n",
              "    .dataframe tbody tr th:only-of-type {\n",
              "        vertical-align: middle;\n",
              "    }\n",
              "\n",
              "    .dataframe tbody tr th {\n",
              "        vertical-align: top;\n",
              "    }\n",
              "\n",
              "    .dataframe thead th {\n",
              "        text-align: right;\n",
              "    }\n",
              "</style>\n",
              "<table border=\"1\" class=\"dataframe\">\n",
              "  <thead>\n",
              "    <tr style=\"text-align: right;\">\n",
              "      <th></th>\n",
              "      <th>Make</th>\n",
              "      <th>Price</th>\n",
              "      <th>count</th>\n",
              "    </tr>\n",
              "  </thead>\n",
              "  <tbody>\n",
              "    <tr>\n",
              "      <th>32</th>\n",
              "      <td>FIAT</td>\n",
              "      <td>27495</td>\n",
              "      <td>39</td>\n",
              "    </tr>\n",
              "    <tr>\n",
              "      <th>33</th>\n",
              "      <td>FIAT</td>\n",
              "      <td>24995</td>\n",
              "      <td>39</td>\n",
              "    </tr>\n",
              "    <tr>\n",
              "      <th>34</th>\n",
              "      <td>FIAT</td>\n",
              "      <td>28195</td>\n",
              "      <td>39</td>\n",
              "    </tr>\n",
              "    <tr>\n",
              "      <th>64</th>\n",
              "      <td>Chrysler</td>\n",
              "      <td>25170</td>\n",
              "      <td>159</td>\n",
              "    </tr>\n",
              "    <tr>\n",
              "      <th>65</th>\n",
              "      <td>Chrysler</td>\n",
              "      <td>23950</td>\n",
              "      <td>159</td>\n",
              "    </tr>\n",
              "    <tr>\n",
              "      <th>...</th>\n",
              "      <td>...</td>\n",
              "      <td>...</td>\n",
              "      <td>...</td>\n",
              "    </tr>\n",
              "    <tr>\n",
              "      <th>11866</th>\n",
              "      <td>GMC</td>\n",
              "      <td>56225</td>\n",
              "      <td>395</td>\n",
              "    </tr>\n",
              "    <tr>\n",
              "      <th>11870</th>\n",
              "      <td>GMC</td>\n",
              "      <td>51315</td>\n",
              "      <td>395</td>\n",
              "    </tr>\n",
              "    <tr>\n",
              "      <th>11873</th>\n",
              "      <td>GMC</td>\n",
              "      <td>48315</td>\n",
              "      <td>395</td>\n",
              "    </tr>\n",
              "    <tr>\n",
              "      <th>11877</th>\n",
              "      <td>GMC</td>\n",
              "      <td>51530</td>\n",
              "      <td>395</td>\n",
              "    </tr>\n",
              "    <tr>\n",
              "      <th>11880</th>\n",
              "      <td>GMC</td>\n",
              "      <td>48530</td>\n",
              "      <td>395</td>\n",
              "    </tr>\n",
              "  </tbody>\n",
              "</table>\n",
              "<p>5738 rows × 3 columns</p>\n",
              "</div>"
            ],
            "text/plain": [
              "           Make  Price  count\n",
              "32         FIAT  27495     39\n",
              "33         FIAT  24995     39\n",
              "34         FIAT  28195     39\n",
              "64     Chrysler  25170    159\n",
              "65     Chrysler  23950    159\n",
              "...         ...    ...    ...\n",
              "11866       GMC  56225    395\n",
              "11870       GMC  51315    395\n",
              "11873       GMC  48315    395\n",
              "11877       GMC  51530    395\n",
              "11880       GMC  48530    395\n",
              "\n",
              "[5738 rows x 3 columns]"
            ]
          },
          "metadata": {
            "tags": []
          },
          "execution_count": 54
        }
      ]
    },
    {
      "cell_type": "code",
      "metadata": {
        "id": "0UkbxXjyUddB",
        "colab_type": "code",
        "colab": {
          "base_uri": "https://localhost:8080/",
          "height": 402
        },
        "outputId": "b3f668d6-be2e-49e8-9a8b-0cedcf618511"
      },
      "source": [
        "make_price=make_price.sort_values(by=['count'],ascending=False) \n",
        "#Sorting the data based on 'count' in descending order as we need to find the top 10 car brands\n",
        "make_price"
      ],
      "execution_count": 55,
      "outputs": [
        {
          "output_type": "execute_result",
          "data": {
            "text/html": [
              "<div>\n",
              "<style scoped>\n",
              "    .dataframe tbody tr th:only-of-type {\n",
              "        vertical-align: middle;\n",
              "    }\n",
              "\n",
              "    .dataframe tbody tr th {\n",
              "        vertical-align: top;\n",
              "    }\n",
              "\n",
              "    .dataframe thead th {\n",
              "        text-align: right;\n",
              "    }\n",
              "</style>\n",
              "<table border=\"1\" class=\"dataframe\">\n",
              "  <thead>\n",
              "    <tr style=\"text-align: right;\">\n",
              "      <th></th>\n",
              "      <th>Make</th>\n",
              "      <th>Price</th>\n",
              "      <th>count</th>\n",
              "    </tr>\n",
              "  </thead>\n",
              "  <tbody>\n",
              "    <tr>\n",
              "      <th>9451</th>\n",
              "      <td>Chevrolet</td>\n",
              "      <td>26460</td>\n",
              "      <td>817</td>\n",
              "    </tr>\n",
              "    <tr>\n",
              "      <th>9622</th>\n",
              "      <td>Chevrolet</td>\n",
              "      <td>27585</td>\n",
              "      <td>817</td>\n",
              "    </tr>\n",
              "    <tr>\n",
              "      <th>9615</th>\n",
              "      <td>Chevrolet</td>\n",
              "      <td>39965</td>\n",
              "      <td>817</td>\n",
              "    </tr>\n",
              "    <tr>\n",
              "      <th>9616</th>\n",
              "      <td>Chevrolet</td>\n",
              "      <td>35590</td>\n",
              "      <td>817</td>\n",
              "    </tr>\n",
              "    <tr>\n",
              "      <th>9617</th>\n",
              "      <td>Chevrolet</td>\n",
              "      <td>27975</td>\n",
              "      <td>817</td>\n",
              "    </tr>\n",
              "    <tr>\n",
              "      <th>...</th>\n",
              "      <td>...</td>\n",
              "      <td>...</td>\n",
              "      <td>...</td>\n",
              "    </tr>\n",
              "    <tr>\n",
              "      <th>3917</th>\n",
              "      <td>Lotus</td>\n",
              "      <td>51845</td>\n",
              "      <td>7</td>\n",
              "    </tr>\n",
              "    <tr>\n",
              "      <th>3918</th>\n",
              "      <td>Lotus</td>\n",
              "      <td>54990</td>\n",
              "      <td>7</td>\n",
              "    </tr>\n",
              "    <tr>\n",
              "      <th>7740</th>\n",
              "      <td>Plymouth</td>\n",
              "      <td>44625</td>\n",
              "      <td>3</td>\n",
              "    </tr>\n",
              "    <tr>\n",
              "      <th>7739</th>\n",
              "      <td>Plymouth</td>\n",
              "      <td>20901</td>\n",
              "      <td>3</td>\n",
              "    </tr>\n",
              "    <tr>\n",
              "      <th>7738</th>\n",
              "      <td>Plymouth</td>\n",
              "      <td>20105</td>\n",
              "      <td>3</td>\n",
              "    </tr>\n",
              "  </tbody>\n",
              "</table>\n",
              "<p>5738 rows × 3 columns</p>\n",
              "</div>"
            ],
            "text/plain": [
              "           Make  Price  count\n",
              "9451  Chevrolet  26460    817\n",
              "9622  Chevrolet  27585    817\n",
              "9615  Chevrolet  39965    817\n",
              "9616  Chevrolet  35590    817\n",
              "9617  Chevrolet  27975    817\n",
              "...         ...    ...    ...\n",
              "3917      Lotus  51845      7\n",
              "3918      Lotus  54990      7\n",
              "7740   Plymouth  44625      3\n",
              "7739   Plymouth  20901      3\n",
              "7738   Plymouth  20105      3\n",
              "\n",
              "[5738 rows x 3 columns]"
            ]
          },
          "metadata": {
            "tags": []
          },
          "execution_count": 55
        }
      ]
    },
    {
      "cell_type": "code",
      "metadata": {
        "id": "hQRca3cYUwiY",
        "colab_type": "code",
        "colab": {
          "base_uri": "https://localhost:8080/",
          "height": 402
        },
        "outputId": "cab7cd78-1efb-4466-ca58-739ecdc1330d"
      },
      "source": [
        "make_price=make_price.drop(['count'],axis=1) #we can now drop the column 'Count' as we have got our columns in descending order\n",
        "make_price"
      ],
      "execution_count": 56,
      "outputs": [
        {
          "output_type": "execute_result",
          "data": {
            "text/html": [
              "<div>\n",
              "<style scoped>\n",
              "    .dataframe tbody tr th:only-of-type {\n",
              "        vertical-align: middle;\n",
              "    }\n",
              "\n",
              "    .dataframe tbody tr th {\n",
              "        vertical-align: top;\n",
              "    }\n",
              "\n",
              "    .dataframe thead th {\n",
              "        text-align: right;\n",
              "    }\n",
              "</style>\n",
              "<table border=\"1\" class=\"dataframe\">\n",
              "  <thead>\n",
              "    <tr style=\"text-align: right;\">\n",
              "      <th></th>\n",
              "      <th>Make</th>\n",
              "      <th>Price</th>\n",
              "    </tr>\n",
              "  </thead>\n",
              "  <tbody>\n",
              "    <tr>\n",
              "      <th>9451</th>\n",
              "      <td>Chevrolet</td>\n",
              "      <td>26460</td>\n",
              "    </tr>\n",
              "    <tr>\n",
              "      <th>9622</th>\n",
              "      <td>Chevrolet</td>\n",
              "      <td>27585</td>\n",
              "    </tr>\n",
              "    <tr>\n",
              "      <th>9615</th>\n",
              "      <td>Chevrolet</td>\n",
              "      <td>39965</td>\n",
              "    </tr>\n",
              "    <tr>\n",
              "      <th>9616</th>\n",
              "      <td>Chevrolet</td>\n",
              "      <td>35590</td>\n",
              "    </tr>\n",
              "    <tr>\n",
              "      <th>9617</th>\n",
              "      <td>Chevrolet</td>\n",
              "      <td>27975</td>\n",
              "    </tr>\n",
              "    <tr>\n",
              "      <th>...</th>\n",
              "      <td>...</td>\n",
              "      <td>...</td>\n",
              "    </tr>\n",
              "    <tr>\n",
              "      <th>3917</th>\n",
              "      <td>Lotus</td>\n",
              "      <td>51845</td>\n",
              "    </tr>\n",
              "    <tr>\n",
              "      <th>3918</th>\n",
              "      <td>Lotus</td>\n",
              "      <td>54990</td>\n",
              "    </tr>\n",
              "    <tr>\n",
              "      <th>7740</th>\n",
              "      <td>Plymouth</td>\n",
              "      <td>44625</td>\n",
              "    </tr>\n",
              "    <tr>\n",
              "      <th>7739</th>\n",
              "      <td>Plymouth</td>\n",
              "      <td>20901</td>\n",
              "    </tr>\n",
              "    <tr>\n",
              "      <th>7738</th>\n",
              "      <td>Plymouth</td>\n",
              "      <td>20105</td>\n",
              "    </tr>\n",
              "  </tbody>\n",
              "</table>\n",
              "<p>5738 rows × 2 columns</p>\n",
              "</div>"
            ],
            "text/plain": [
              "           Make  Price\n",
              "9451  Chevrolet  26460\n",
              "9622  Chevrolet  27585\n",
              "9615  Chevrolet  39965\n",
              "9616  Chevrolet  35590\n",
              "9617  Chevrolet  27975\n",
              "...         ...    ...\n",
              "3917      Lotus  51845\n",
              "3918      Lotus  54990\n",
              "7740   Plymouth  44625\n",
              "7739   Plymouth  20901\n",
              "7738   Plymouth  20105\n",
              "\n",
              "[5738 rows x 2 columns]"
            ]
          },
          "metadata": {
            "tags": []
          },
          "execution_count": 56
        }
      ]
    },
    {
      "cell_type": "code",
      "metadata": {
        "id": "LUqizoCbU_km",
        "colab_type": "code",
        "colab": {
          "base_uri": "https://localhost:8080/",
          "height": 758
        },
        "outputId": "2e40b629-0c53-44d6-f107-f3c088b2358b"
      },
      "source": [
        "make_price=make_price.groupby(['Make'],sort=False).mean() \n",
        "#Grouping the data of the same car brands and then finding the average price\n",
        "make_price"
      ],
      "execution_count": 57,
      "outputs": [
        {
          "output_type": "execute_result",
          "data": {
            "text/html": [
              "<div>\n",
              "<style scoped>\n",
              "    .dataframe tbody tr th:only-of-type {\n",
              "        vertical-align: middle;\n",
              "    }\n",
              "\n",
              "    .dataframe tbody tr th {\n",
              "        vertical-align: top;\n",
              "    }\n",
              "\n",
              "    .dataframe thead th {\n",
              "        text-align: right;\n",
              "    }\n",
              "</style>\n",
              "<table border=\"1\" class=\"dataframe\">\n",
              "  <thead>\n",
              "    <tr style=\"text-align: right;\">\n",
              "      <th></th>\n",
              "      <th>Price</th>\n",
              "    </tr>\n",
              "    <tr>\n",
              "      <th>Make</th>\n",
              "      <th></th>\n",
              "    </tr>\n",
              "  </thead>\n",
              "  <tbody>\n",
              "    <tr>\n",
              "      <th>Chevrolet</th>\n",
              "      <td>29579.149327</td>\n",
              "    </tr>\n",
              "    <tr>\n",
              "      <th>Toyota</th>\n",
              "      <td>32220.343629</td>\n",
              "    </tr>\n",
              "    <tr>\n",
              "      <th>Volkswagen</th>\n",
              "      <td>28323.224852</td>\n",
              "    </tr>\n",
              "    <tr>\n",
              "      <th>Nissan</th>\n",
              "      <td>31994.559165</td>\n",
              "    </tr>\n",
              "    <tr>\n",
              "      <th>GMC</th>\n",
              "      <td>34253.534177</td>\n",
              "    </tr>\n",
              "    <tr>\n",
              "      <th>Dodge</th>\n",
              "      <td>27439.285714</td>\n",
              "    </tr>\n",
              "    <tr>\n",
              "      <th>Honda</th>\n",
              "      <td>28298.002717</td>\n",
              "    </tr>\n",
              "    <tr>\n",
              "      <th>Mazda</th>\n",
              "      <td>24861.709265</td>\n",
              "    </tr>\n",
              "    <tr>\n",
              "      <th>Suzuki</th>\n",
              "      <td>20371.609756</td>\n",
              "    </tr>\n",
              "    <tr>\n",
              "      <th>Hyundai</th>\n",
              "      <td>25393.731602</td>\n",
              "    </tr>\n",
              "    <tr>\n",
              "      <th>Cadillac</th>\n",
              "      <td>46519.178899</td>\n",
              "    </tr>\n",
              "    <tr>\n",
              "      <th>Subaru</th>\n",
              "      <td>27301.309524</td>\n",
              "    </tr>\n",
              "    <tr>\n",
              "      <th>Kia</th>\n",
              "      <td>25666.089109</td>\n",
              "    </tr>\n",
              "    <tr>\n",
              "      <th>Volvo</th>\n",
              "      <td>40982.814208</td>\n",
              "    </tr>\n",
              "    <tr>\n",
              "      <th>Chrysler</th>\n",
              "      <td>31069.119497</td>\n",
              "    </tr>\n",
              "    <tr>\n",
              "      <th>Mitsubishi</th>\n",
              "      <td>25530.158228</td>\n",
              "    </tr>\n",
              "    <tr>\n",
              "      <th>Lexus</th>\n",
              "      <td>42638.064516</td>\n",
              "    </tr>\n",
              "    <tr>\n",
              "      <th>Mercedes-Benz</th>\n",
              "      <td>45346.018519</td>\n",
              "    </tr>\n",
              "    <tr>\n",
              "      <th>Saab</th>\n",
              "      <td>38150.448718</td>\n",
              "    </tr>\n",
              "    <tr>\n",
              "      <th>FIAT</th>\n",
              "      <td>23507.820513</td>\n",
              "    </tr>\n",
              "    <tr>\n",
              "      <th>Porsche</th>\n",
              "      <td>51818.181818</td>\n",
              "    </tr>\n",
              "    <tr>\n",
              "      <th>Lotus</th>\n",
              "      <td>50758.571429</td>\n",
              "    </tr>\n",
              "    <tr>\n",
              "      <th>Plymouth</th>\n",
              "      <td>28543.666667</td>\n",
              "    </tr>\n",
              "  </tbody>\n",
              "</table>\n",
              "</div>"
            ],
            "text/plain": [
              "                      Price\n",
              "Make                       \n",
              "Chevrolet      29579.149327\n",
              "Toyota         32220.343629\n",
              "Volkswagen     28323.224852\n",
              "Nissan         31994.559165\n",
              "GMC            34253.534177\n",
              "Dodge          27439.285714\n",
              "Honda          28298.002717\n",
              "Mazda          24861.709265\n",
              "Suzuki         20371.609756\n",
              "Hyundai        25393.731602\n",
              "Cadillac       46519.178899\n",
              "Subaru         27301.309524\n",
              "Kia            25666.089109\n",
              "Volvo          40982.814208\n",
              "Chrysler       31069.119497\n",
              "Mitsubishi     25530.158228\n",
              "Lexus          42638.064516\n",
              "Mercedes-Benz  45346.018519\n",
              "Saab           38150.448718\n",
              "FIAT           23507.820513\n",
              "Porsche        51818.181818\n",
              "Lotus          50758.571429\n",
              "Plymouth       28543.666667"
            ]
          },
          "metadata": {
            "tags": []
          },
          "execution_count": 57
        }
      ]
    },
    {
      "cell_type": "code",
      "metadata": {
        "id": "GU6--lYQVVSC",
        "colab_type": "code",
        "colab": {
          "base_uri": "https://localhost:8080/",
          "height": 353
        },
        "outputId": "f93f0754-b55b-4c99-b827-c45f9b3a712d"
      },
      "source": [
        "print(\" Top 10 car brands with their mean Price :\")\n",
        "make_price.head(10) #Displays Top 10 car Brands with their average price\n",
        "\n",
        "#Percentage of car per brand\n",
        "counts = car_data['Make'].value_counts()*100/sum(car_data['Make'].value_counts())\n",
        "\n",
        "#Top 10 car brands\n",
        "popular_labels = counts.index[:10]\n",
        "    \n",
        "#Plot\n",
        "plt.figure(figsize=(10,5))\n",
        "plt.barh(popular_labels, width=counts[:10])\n",
        "plt.title('Top 10 Car brands')\n",
        "plt.show()"
      ],
      "execution_count": 68,
      "outputs": [
        {
          "output_type": "stream",
          "text": [
            " Top 10 car brands with their mean Price :\n"
          ],
          "name": "stdout"
        },
        {
          "output_type": "display_data",
          "data": {
            "image/png": "[encoded data removed]",
            "text/plain": [
              "<Figure size 720x360 with 1 Axes>"
            ]
          },
          "metadata": {
            "tags": [],
            "needs_background": "light"
          }
        }
      ]
    },
    {
      "cell_type": "markdown",
      "metadata": {
        "id": "xBcx3DWYVz8k",
        "colab_type": "text"
      },
      "source": [
        "# Step 7:-"
      ]
    },
    {
      "cell_type": "markdown",
      "metadata": {
        "id": "_BO8eQDjV8PC",
        "colab_type": "text"
      },
      "source": [
        "**Plotting the correlation matrix and documenting our insights**"
      ]
    },
    {
      "cell_type": "code",
      "metadata": {
        "id": "NSD9nvHMVzmf",
        "colab_type": "code",
        "colab": {
          "base_uri": "https://localhost:8080/",
          "height": 301
        },
        "outputId": "cc21e90d-6bc9-4ec8-98cb-ae4c2b9c8929"
      },
      "source": [
        "print(\" Co-relation matrix of dataset: \")\n",
        "car_data.corr()"
      ],
      "execution_count": 59,
      "outputs": [
        {
          "output_type": "stream",
          "text": [
            " Co-relation matrix of dataset: \n"
          ],
          "name": "stdout"
        },
        {
          "output_type": "execute_result",
          "data": {
            "text/html": [
              "<div>\n",
              "<style scoped>\n",
              "    .dataframe tbody tr th:only-of-type {\n",
              "        vertical-align: middle;\n",
              "    }\n",
              "\n",
              "    .dataframe tbody tr th {\n",
              "        vertical-align: top;\n",
              "    }\n",
              "\n",
              "    .dataframe thead th {\n",
              "        text-align: right;\n",
              "    }\n",
              "</style>\n",
              "<table border=\"1\" class=\"dataframe\">\n",
              "  <thead>\n",
              "    <tr style=\"text-align: right;\">\n",
              "      <th></th>\n",
              "      <th>Year</th>\n",
              "      <th>HP</th>\n",
              "      <th>Cylinders</th>\n",
              "      <th>Number of Doors</th>\n",
              "      <th>MPG-H</th>\n",
              "      <th>MPG-C</th>\n",
              "      <th>Popularity</th>\n",
              "      <th>Price</th>\n",
              "    </tr>\n",
              "  </thead>\n",
              "  <tbody>\n",
              "    <tr>\n",
              "      <th>Year</th>\n",
              "      <td>1.000000</td>\n",
              "      <td>0.216660</td>\n",
              "      <td>-0.132461</td>\n",
              "      <td>0.140964</td>\n",
              "      <td>0.369093</td>\n",
              "      <td>0.351970</td>\n",
              "      <td>0.197893</td>\n",
              "      <td>0.296960</td>\n",
              "    </tr>\n",
              "    <tr>\n",
              "      <th>HP</th>\n",
              "      <td>0.216660</td>\n",
              "      <td>1.000000</td>\n",
              "      <td>0.786569</td>\n",
              "      <td>0.022889</td>\n",
              "      <td>-0.572546</td>\n",
              "      <td>-0.636311</td>\n",
              "      <td>0.179020</td>\n",
              "      <td>0.765274</td>\n",
              "    </tr>\n",
              "    <tr>\n",
              "      <th>Cylinders</th>\n",
              "      <td>-0.132461</td>\n",
              "      <td>0.786569</td>\n",
              "      <td>1.000000</td>\n",
              "      <td>0.027589</td>\n",
              "      <td>-0.732600</td>\n",
              "      <td>-0.765498</td>\n",
              "      <td>0.179729</td>\n",
              "      <td>0.509327</td>\n",
              "    </tr>\n",
              "    <tr>\n",
              "      <th>Number of Doors</th>\n",
              "      <td>0.140964</td>\n",
              "      <td>0.022889</td>\n",
              "      <td>0.027589</td>\n",
              "      <td>1.000000</td>\n",
              "      <td>-0.015166</td>\n",
              "      <td>0.007734</td>\n",
              "      <td>-0.017734</td>\n",
              "      <td>0.041721</td>\n",
              "    </tr>\n",
              "    <tr>\n",
              "      <th>MPG-H</th>\n",
              "      <td>0.369093</td>\n",
              "      <td>-0.572546</td>\n",
              "      <td>-0.732600</td>\n",
              "      <td>-0.015166</td>\n",
              "      <td>1.000000</td>\n",
              "      <td>0.943417</td>\n",
              "      <td>-0.031460</td>\n",
              "      <td>-0.328617</td>\n",
              "    </tr>\n",
              "    <tr>\n",
              "      <th>MPG-C</th>\n",
              "      <td>0.351970</td>\n",
              "      <td>-0.636311</td>\n",
              "      <td>-0.765498</td>\n",
              "      <td>0.007734</td>\n",
              "      <td>0.943417</td>\n",
              "      <td>1.000000</td>\n",
              "      <td>-0.032105</td>\n",
              "      <td>-0.373327</td>\n",
              "    </tr>\n",
              "    <tr>\n",
              "      <th>Popularity</th>\n",
              "      <td>0.197893</td>\n",
              "      <td>0.179020</td>\n",
              "      <td>0.179729</td>\n",
              "      <td>-0.017734</td>\n",
              "      <td>-0.031460</td>\n",
              "      <td>-0.032105</td>\n",
              "      <td>1.000000</td>\n",
              "      <td>0.022250</td>\n",
              "    </tr>\n",
              "    <tr>\n",
              "      <th>Price</th>\n",
              "      <td>0.296960</td>\n",
              "      <td>0.765274</td>\n",
              "      <td>0.509327</td>\n",
              "      <td>0.041721</td>\n",
              "      <td>-0.328617</td>\n",
              "      <td>-0.373327</td>\n",
              "      <td>0.022250</td>\n",
              "      <td>1.000000</td>\n",
              "    </tr>\n",
              "  </tbody>\n",
              "</table>\n",
              "</div>"
            ],
            "text/plain": [
              "                     Year        HP  Cylinders  ...     MPG-C  Popularity     Price\n",
              "Year             1.000000  0.216660  -0.132461  ...  0.351970    0.197893  0.296960\n",
              "HP               0.216660  1.000000   0.786569  ... -0.636311    0.179020  0.765274\n",
              "Cylinders       -0.132461  0.786569   1.000000  ... -0.765498    0.179729  0.509327\n",
              "Number of Doors  0.140964  0.022889   0.027589  ...  0.007734   -0.017734  0.041721\n",
              "MPG-H            0.369093 -0.572546  -0.732600  ...  0.943417   -0.031460 -0.328617\n",
              "MPG-C            0.351970 -0.636311  -0.765498  ...  1.000000   -0.032105 -0.373327\n",
              "Popularity       0.197893  0.179020   0.179729  ... -0.032105    1.000000  0.022250\n",
              "Price            0.296960  0.765274   0.509327  ... -0.373327    0.022250  1.000000\n",
              "\n",
              "[8 rows x 8 columns]"
            ]
          },
          "metadata": {
            "tags": []
          },
          "execution_count": 59
        }
      ]
    },
    {
      "cell_type": "markdown",
      "metadata": {
        "id": "q3e88Mj4WdrY",
        "colab_type": "text"
      },
      "source": [
        "**From this matrix we can see that 'Price' of vehicle is less** **correlated with 'Number of Doors' (0.041721) and 'Popularity' (0.**\n",
        "**022250) as compared to other columns. We are checking the**\n",
        "**co-relation only with 'Price' here, as it is our target value.**\n",
        "\n",
        "**Highest co-relation of 'Price' is with : 'HP' (0.765274)**\n",
        "\n",
        "**Highest anti co-relation of 'Price' is with : 'MPG-C' (-0.373327)**"
      ]
    },
    {
      "cell_type": "markdown",
      "metadata": {
        "id": "4iPRrARDXbBb",
        "colab_type": "text"
      },
      "source": [
        "# Step 8:-"
      ]
    },
    {
      "cell_type": "markdown",
      "metadata": {
        "id": "xoaNLHg-Xw5b",
        "colab_type": "text"
      },
      "source": [
        "**Performing EDA , plotting graphs (Heatmap and Scatterplots) and** **documenting the findings**"
      ]
    },
    {
      "cell_type": "markdown",
      "metadata": {
        "id": "z8JMWwbeYVPs",
        "colab_type": "text"
      },
      "source": [
        "**(a) Plotting Heatmap**"
      ]
    },
    {
      "cell_type": "code",
      "metadata": {
        "id": "NIe5T7o9WNUU",
        "colab_type": "code",
        "colab": {
          "base_uri": "https://localhost:8080/",
          "height": 416
        },
        "outputId": "d3064eca-c819-4415-9768-48324e01b1f6"
      },
      "source": [
        "plt.figure(figsize=(10,5))\n",
        "c= car_data.corr()\n",
        "sns.heatmap(c,cmap=\"BrBG\",annot=True)"
      ],
      "execution_count": 60,
      "outputs": [
        {
          "output_type": "execute_result",
          "data": {
            "text/plain": [
              "<matplotlib.axes._subplots.AxesSubplot at 0x7f08c2c188d0>"
            ]
          },
          "metadata": {
            "tags": []
          },
          "execution_count": 60
        },
        {
          "output_type": "display_data",
          "data": {
            "image/png": "[encoded data removed]",
            "text/plain": [
              "<Figure size 720x360 with 2 Axes>"
            ]
          },
          "metadata": {
            "tags": [],
            "needs_background": "light"
          }
        }
      ]
    },
    {
      "cell_type": "markdown",
      "metadata": {
        "id": "WUKL-eP7Yg_R",
        "colab_type": "text"
      },
      "source": [
        "**(b) Plotting Scatterplots**"
      ]
    },
    {
      "cell_type": "markdown",
      "metadata": {
        "id": "clIyw-MpYsu4",
        "colab_type": "text"
      },
      "source": [
        "**(i) Scatter plot of 'YEAR' vs 'PRICE'**"
      ]
    },
    {
      "cell_type": "code",
      "metadata": {
        "id": "KL_3mlbnYrF7",
        "colab_type": "code",
        "colab": {
          "base_uri": "https://localhost:8080/",
          "height": 279
        },
        "outputId": "dd9395be-b1c0-43df-efe3-a8bd4712f00e"
      },
      "source": [
        "sc1 = car_data.plot.scatter(x='Year',\n",
        "                      y='Price',\n",
        "                      c='Blue')"
      ],
      "execution_count": 61,
      "outputs": [
        {
          "output_type": "display_data",
          "data": {
            "image/png": "[encoded data removed]",
            "text/plain": [
              "<Figure size 432x288 with 1 Axes>"
            ]
          },
          "metadata": {
            "tags": [],
            "needs_background": "light"
          }
        }
      ]
    },
    {
      "cell_type": "markdown",
      "metadata": {
        "id": "RUYloJO4Y9k9",
        "colab_type": "text"
      },
      "source": [
        "From this plot it can be inferred that 'YEAR' does not affect the 'PRICE' significantly"
      ]
    },
    {
      "cell_type": "markdown",
      "metadata": {
        "id": "_N54f84tZT16",
        "colab_type": "text"
      },
      "source": [
        "**(ii) Scatterplot of 'HP' vs 'PRICE'**"
      ]
    },
    {
      "cell_type": "code",
      "metadata": {
        "id": "56Lkh9XLZcld",
        "colab_type": "code",
        "colab": {
          "base_uri": "https://localhost:8080/",
          "height": 279
        },
        "outputId": "b20493fe-9879-4c90-e2f2-0d384ab8c355"
      },
      "source": [
        "sc2 = car_data.plot.scatter(x='HP',\n",
        "                      y='Price',\n",
        "                      c='Green')"
      ],
      "execution_count": 62,
      "outputs": [
        {
          "output_type": "display_data",
          "data": {
            "image/png": "[encoded data removed]",
            "text/plain": [
              "<Figure size 432x288 with 1 Axes>"
            ]
          },
          "metadata": {
            "tags": [],
            "needs_background": "light"
          }
        }
      ]
    },
    {
      "cell_type": "markdown",
      "metadata": {
        "id": "WSog6jPkZsQ-",
        "colab_type": "text"
      },
      "source": [
        "From this plot it can be inferred that 'HP' is directly proportional\n",
        "to 'PRICE'  "
      ]
    },
    {
      "cell_type": "markdown",
      "metadata": {
        "id": "I3Nwx-G1Z7x_",
        "colab_type": "text"
      },
      "source": [
        "**(iii) Scatterplot of 'CYLINDER' vs 'PRICE'**"
      ]
    },
    {
      "cell_type": "code",
      "metadata": {
        "id": "W3X2cGKiaF2A",
        "colab_type": "code",
        "colab": {
          "base_uri": "https://localhost:8080/",
          "height": 279
        },
        "outputId": "37cf6bc8-2ab6-4f87-d10f-abf2cf1ef2ad"
      },
      "source": [
        "c3= car_data.plot.scatter(x='Cylinders',\n",
        "                      y='Price',\n",
        "                      c='Yellow')"
      ],
      "execution_count": 63,
      "outputs": [
        {
          "output_type": "display_data",
          "data": {
            "image/png": "[encoded data removed]",
            "text/plain": [
              "<Figure size 432x288 with 1 Axes>"
            ]
          },
          "metadata": {
            "tags": [],
            "needs_background": "light"
          }
        }
      ]
    },
    {
      "cell_type": "markdown",
      "metadata": {
        "id": "SZ6I1kU9aewF",
        "colab_type": "text"
      },
      "source": [
        "This plot shows that 'CYLINDERS' also does not affect the 'PRICE'"
      ]
    },
    {
      "cell_type": "markdown",
      "metadata": {
        "id": "Jvzs0N2rauRh",
        "colab_type": "text"
      },
      "source": [
        "**(iv) Scatterplot of 'MPG-H' vs 'PRICE'**"
      ]
    },
    {
      "cell_type": "code",
      "metadata": {
        "id": "3o3_7fbAa4OG",
        "colab_type": "code",
        "colab": {
          "base_uri": "https://localhost:8080/",
          "height": 279
        },
        "outputId": "58e44a0a-bdab-434f-8f0b-d3a5f7be1f17"
      },
      "source": [
        "\n",
        "sc4= car_data.plot.scatter(x='MPG-H',\n",
        "                      y='Price',\n",
        "                      c='Purple')"
      ],
      "execution_count": 64,
      "outputs": [
        {
          "output_type": "display_data",
          "data": {
            "image/png": "[encoded data removed]",
            "text/plain": [
              "<Figure size 432x288 with 1 Axes>"
            ]
          },
          "metadata": {
            "tags": [],
            "needs_background": "light"
          }
        }
      ]
    },
    {
      "cell_type": "markdown",
      "metadata": {
        "id": "asUNRMTXblGR",
        "colab_type": "text"
      },
      "source": [
        "From this plot it can be inferred that 'MPG-H' is slightly inversely proportional to 'PRICE'"
      ]
    },
    {
      "cell_type": "markdown",
      "metadata": {
        "id": "nvOQOgkqcIfK",
        "colab_type": "text"
      },
      "source": [
        "**(v) Scatterplot of 'MPG-C' vs 'PRICE'**"
      ]
    },
    {
      "cell_type": "code",
      "metadata": {
        "id": "lDZfKxBUcRfs",
        "colab_type": "code",
        "colab": {
          "base_uri": "https://localhost:8080/",
          "height": 279
        },
        "outputId": "d8f0eaf5-a61b-46ae-9304-848b75998f7b"
      },
      "source": [
        "sc5= car_data.plot.scatter(x='MPG-C',\n",
        "                      y='Price',\n",
        "                      c='Red')"
      ],
      "execution_count": 65,
      "outputs": [
        {
          "output_type": "display_data",
          "data": {
            "image/png": "[encoded data removed]",
            "text/plain": [
              "<Figure size 432x288 with 1 Axes>"
            ]
          },
          "metadata": {
            "tags": [],
            "needs_background": "light"
          }
        }
      ]
    },
    {
      "cell_type": "markdown",
      "metadata": {
        "id": "-NORnIhQccm1",
        "colab_type": "text"
      },
      "source": [
        "This plot is similar to the plot between 'MPG-H' vs 'Price'. Hence 'MPG-C' is also slightly inversely proportional to 'PRICE'"
      ]
    },
    {
      "cell_type": "markdown",
      "metadata": {
        "id": "3NT97F2Vcr-H",
        "colab_type": "text"
      },
      "source": [
        "**(c) Plotting combined Scatterplots**"
      ]
    },
    {
      "cell_type": "markdown",
      "metadata": {
        "id": "BKJBL-m4cyn0",
        "colab_type": "text"
      },
      "source": [
        "For analyzing our data more precisely, we plot the Scatterplot by taking two columns together against 'PRICE'."
      ]
    },
    {
      "cell_type": "markdown",
      "metadata": {
        "id": "7NQ50CBDdjuV",
        "colab_type": "text"
      },
      "source": [
        "(i) 'MPG-H' + 'HP' vs 'PRICE'"
      ]
    },
    {
      "cell_type": "code",
      "metadata": {
        "id": "0XPCvnMxdD_A",
        "colab_type": "code",
        "colab": {
          "base_uri": "https://localhost:8080/",
          "height": 253
        },
        "outputId": "80b9a85d-c19f-49df-f633-2e5c2a6eb106"
      },
      "source": [
        "\n",
        "sc6 = car_data.plot.scatter(x='HP',\n",
        "                      y='MPG-H',\n",
        "                      c='Price',\n",
        "                      colormap='cool')"
      ],
      "execution_count": 66,
      "outputs": [
        {
          "output_type": "display_data",
          "data": {
            "image/png": "[encoded data removed]",
            "text/plain": [
              "<Figure size 432x288 with 2 Axes>"
            ]
          },
          "metadata": {
            "tags": [],
            "needs_background": "light"
          }
        }
      ]
    },
    {
      "cell_type": "markdown",
      "metadata": {
        "id": "2A84cV0MdXn_",
        "colab_type": "text"
      },
      "source": [
        "**From this plot we can say that, 'Price' is more when there is high value of 'HP' and intermediate value of 'MPG-H'.**"
      ]
    },
    {
      "cell_type": "markdown",
      "metadata": {
        "id": "kuSvkCrVduPd",
        "colab_type": "text"
      },
      "source": [
        "(ii) 'MPG-C' + 'HP' vs 'PRICE'"
      ]
    },
    {
      "cell_type": "code",
      "metadata": {
        "id": "iznBKGV8dbPy",
        "colab_type": "code",
        "colab": {
          "base_uri": "https://localhost:8080/",
          "height": 254
        },
        "outputId": "615ce48c-9c4b-4324-aee3-b140d5ad0585"
      },
      "source": [
        "sc7 = car_data.plot.scatter(x='HP',\n",
        "                      y='MPG-C',\n",
        "                      c='Price',\n",
        "                      colormap='spring')"
      ],
      "execution_count": 67,
      "outputs": [
        {
          "output_type": "display_data",
          "data": {
            "image/png": "[encoded data removed]",
            "text/plain": [
              "<Figure size 432x288 with 2 Axes>"
            ]
          },
          "metadata": {
            "tags": [],
            "needs_background": "light"
          }
        }
      ]
    },
    {
      "cell_type": "markdown",
      "metadata": {
        "id": "AQq499VPeSOC",
        "colab_type": "text"
      },
      "source": [
        "**From this plot we can say that, 'Price' is more when there is high value of 'HP' and intermediate value of 'MPG-C'.**"
      ]
    },
    {
      "cell_type": "markdown",
      "metadata": {
        "id": "0toSuG26eXnT",
        "colab_type": "text"
      },
      "source": [
        "# Machine Learning Model:-"
      ]
    },
    {
      "cell_type": "markdown",
      "metadata": {
        "id": "LP7yQFoBbd_s",
        "colab_type": "text"
      },
      "source": [
        "Here we will apply Linear Regression for predicting the price of the car based on various factors.\n",
        "\n",
        "**Introduction**\n",
        "\n",
        "Linear Regression is a supervised machine learning algorithm where the predicted output is continuous and has a constant slope. It’s used to predict values within a continuous range, (e.g. sales, price) rather than trying to classify them into categories (e.g. cat, dog). There are two main types:\n",
        "\n",
        "**Simple Regression**\n",
        "\n",
        "Simple linear regression uses traditional slope-intercept form, where m and b are the variables our algorithm will try to “learn” to produce the most accurate predictions. x represents our input data and y represents our prediction.\n",
        "\n",
        "*y=mx+c*\n",
        "\n",
        "**Multivariable regression**\n",
        "\n",
        "A more complex, multi-variable linear equation might look like this, where w represents the coefficients, or weights, our model will try to learn.\n",
        "\n",
        "*f(x,y,z)=w1x+w2y+w3z*\n",
        "\n",
        "The variables x,y,z represent the attributes, or distinct pieces of information, we have about each observation.\n",
        "\n",
        "In our case we will be using Multivariable Regression since we will consider 5 variables that is \"MPG-H\", \"MPG-C\", \"Popularity\", \"HP\", \"Cylinders\" ."
      ]
    },
    {
      "cell_type": "code",
      "metadata": {
        "id": "0FlctqS5ZStN",
        "colab_type": "code",
        "colab": {}
      },
      "source": [
        "x = car_data[['MPG-H', 'MPG-C', 'Popularity', 'HP','Cylinders']]\n",
        "y = car_data['Price']"
      ],
      "execution_count": 69,
      "outputs": []
    },
    {
      "cell_type": "code",
      "metadata": {
        "id": "OJhuYMe9b_Md",
        "colab_type": "code",
        "colab": {
          "base_uri": "https://localhost:8080/",
          "height": 195
        },
        "outputId": "8b113951-0bc8-466a-b242-a40d4248701d"
      },
      "source": [
        "type(x)\n",
        "x.head()"
      ],
      "execution_count": 70,
      "outputs": [
        {
          "output_type": "execute_result",
          "data": {
            "text/html": [
              "<div>\n",
              "<style scoped>\n",
              "    .dataframe tbody tr th:only-of-type {\n",
              "        vertical-align: middle;\n",
              "    }\n",
              "\n",
              "    .dataframe tbody tr th {\n",
              "        vertical-align: top;\n",
              "    }\n",
              "\n",
              "    .dataframe thead th {\n",
              "        text-align: right;\n",
              "    }\n",
              "</style>\n",
              "<table border=\"1\" class=\"dataframe\">\n",
              "  <thead>\n",
              "    <tr style=\"text-align: right;\">\n",
              "      <th></th>\n",
              "      <th>MPG-H</th>\n",
              "      <th>MPG-C</th>\n",
              "      <th>Popularity</th>\n",
              "      <th>HP</th>\n",
              "      <th>Cylinders</th>\n",
              "    </tr>\n",
              "  </thead>\n",
              "  <tbody>\n",
              "    <tr>\n",
              "      <th>32</th>\n",
              "      <td>35</td>\n",
              "      <td>26</td>\n",
              "      <td>819</td>\n",
              "      <td>160.0</td>\n",
              "      <td>4.0</td>\n",
              "    </tr>\n",
              "    <tr>\n",
              "      <th>33</th>\n",
              "      <td>35</td>\n",
              "      <td>26</td>\n",
              "      <td>819</td>\n",
              "      <td>160.0</td>\n",
              "      <td>4.0</td>\n",
              "    </tr>\n",
              "    <tr>\n",
              "      <th>34</th>\n",
              "      <td>35</td>\n",
              "      <td>26</td>\n",
              "      <td>819</td>\n",
              "      <td>160.0</td>\n",
              "      <td>4.0</td>\n",
              "    </tr>\n",
              "    <tr>\n",
              "      <th>64</th>\n",
              "      <td>36</td>\n",
              "      <td>23</td>\n",
              "      <td>1013</td>\n",
              "      <td>184.0</td>\n",
              "      <td>4.0</td>\n",
              "    </tr>\n",
              "    <tr>\n",
              "      <th>65</th>\n",
              "      <td>36</td>\n",
              "      <td>23</td>\n",
              "      <td>1013</td>\n",
              "      <td>184.0</td>\n",
              "      <td>4.0</td>\n",
              "    </tr>\n",
              "  </tbody>\n",
              "</table>\n",
              "</div>"
            ],
            "text/plain": [
              "    MPG-H  MPG-C  Popularity     HP  Cylinders\n",
              "32     35     26         819  160.0        4.0\n",
              "33     35     26         819  160.0        4.0\n",
              "34     35     26         819  160.0        4.0\n",
              "64     36     23        1013  184.0        4.0\n",
              "65     36     23        1013  184.0        4.0"
            ]
          },
          "metadata": {
            "tags": []
          },
          "execution_count": 70
        }
      ]
    },
    {
      "cell_type": "code",
      "metadata": {
        "id": "FTLvXUAvcDW9",
        "colab_type": "code",
        "colab": {
          "base_uri": "https://localhost:8080/",
          "height": 118
        },
        "outputId": "9cfdec0d-6b14-4544-aa1c-dc440f7094f0"
      },
      "source": [
        "type(y)\n",
        "y.head()"
      ],
      "execution_count": 71,
      "outputs": [
        {
          "output_type": "execute_result",
          "data": {
            "text/plain": [
              "32    27495\n",
              "33    24995\n",
              "34    28195\n",
              "64    25170\n",
              "65    23950\n",
              "Name: Price, dtype: int64"
            ]
          },
          "metadata": {
            "tags": []
          },
          "execution_count": 71
        }
      ]
    },
    {
      "cell_type": "markdown",
      "metadata": {
        "id": "cnzd_UqqcJs6",
        "colab_type": "text"
      },
      "source": [
        "**Splitting data in 80:20 ratio for training and testing our ML model**"
      ]
    },
    {
      "cell_type": "code",
      "metadata": {
        "id": "vt46icuicShH",
        "colab_type": "code",
        "colab": {}
      },
      "source": [
        "from sklearn.model_selection import train_test_split\n",
        "X_train, X_test, y_train, y_test = train_test_split(x, y, test_size = 0.2, random_state = 0)\n"
      ],
      "execution_count": 82,
      "outputs": []
    },
    {
      "cell_type": "markdown",
      "metadata": {
        "id": "DoiVpjjlcYSE",
        "colab_type": "text"
      },
      "source": [
        "**Construction and Training of Model**"
      ]
    },
    {
      "cell_type": "code",
      "metadata": {
        "id": "B3RNWKq6cWUj",
        "colab_type": "code",
        "colab": {
          "base_uri": "https://localhost:8080/",
          "height": 34
        },
        "outputId": "e8f8e5db-d7a3-41d6-b6c1-5ab9f4c8c1d9"
      },
      "source": [
        "from sklearn.linear_model import LinearRegression\n",
        "lr = LinearRegression()\n",
        "lr.fit(X_train, y_train)"
      ],
      "execution_count": 83,
      "outputs": [
        {
          "output_type": "execute_result",
          "data": {
            "text/plain": [
              "LinearRegression(copy_X=True, fit_intercept=True, n_jobs=None, normalize=False)"
            ]
          },
          "metadata": {
            "tags": []
          },
          "execution_count": 83
        }
      ]
    },
    {
      "cell_type": "markdown",
      "metadata": {
        "id": "xMMkq7cOckJD",
        "colab_type": "text"
      },
      "source": [
        "**Printing the intercept and calculating the coefficients**"
      ]
    },
    {
      "cell_type": "code",
      "metadata": {
        "id": "ODdVfp_fc5MW",
        "colab_type": "code",
        "colab": {
          "base_uri": "https://localhost:8080/",
          "height": 212
        },
        "outputId": "a2ed8f04-1992-4c54-fead-b57d2295b43c"
      },
      "source": [
        "print(lr.intercept_)\n",
        "coeff_data = pd.DataFrame(lr.coef_, x.columns, columns = ['Coefficient'])\n",
        "coeff_data"
      ],
      "execution_count": 84,
      "outputs": [
        {
          "output_type": "stream",
          "text": [
            "1097.0980367657066\n"
          ],
          "name": "stdout"
        },
        {
          "output_type": "execute_result",
          "data": {
            "text/html": [
              "<div>\n",
              "<style scoped>\n",
              "    .dataframe tbody tr th:only-of-type {\n",
              "        vertical-align: middle;\n",
              "    }\n",
              "\n",
              "    .dataframe tbody tr th {\n",
              "        vertical-align: top;\n",
              "    }\n",
              "\n",
              "    .dataframe thead th {\n",
              "        text-align: right;\n",
              "    }\n",
              "</style>\n",
              "<table border=\"1\" class=\"dataframe\">\n",
              "  <thead>\n",
              "    <tr style=\"text-align: right;\">\n",
              "      <th></th>\n",
              "      <th>Coefficient</th>\n",
              "    </tr>\n",
              "  </thead>\n",
              "  <tbody>\n",
              "    <tr>\n",
              "      <th>MPG-H</th>\n",
              "      <td>-74.072149</td>\n",
              "    </tr>\n",
              "    <tr>\n",
              "      <th>MPG-C</th>\n",
              "      <td>387.830727</td>\n",
              "    </tr>\n",
              "    <tr>\n",
              "      <th>Popularity</th>\n",
              "      <td>-1.961511</td>\n",
              "    </tr>\n",
              "    <tr>\n",
              "      <th>HP</th>\n",
              "      <td>134.031197</td>\n",
              "    </tr>\n",
              "    <tr>\n",
              "      <th>Cylinders</th>\n",
              "      <td>-899.265262</td>\n",
              "    </tr>\n",
              "  </tbody>\n",
              "</table>\n",
              "</div>"
            ],
            "text/plain": [
              "            Coefficient\n",
              "MPG-H        -74.072149\n",
              "MPG-C        387.830727\n",
              "Popularity    -1.961511\n",
              "HP           134.031197\n",
              "Cylinders   -899.265262"
            ]
          },
          "metadata": {
            "tags": []
          },
          "execution_count": 84
        }
      ]
    },
    {
      "cell_type": "markdown",
      "metadata": {
        "id": "gQwiy7_OdB0a",
        "colab_type": "text"
      },
      "source": [
        "**Checking R^2 score**"
      ]
    },
    {
      "cell_type": "code",
      "metadata": {
        "id": "Ksis8_PudIjG",
        "colab_type": "code",
        "colab": {
          "base_uri": "https://localhost:8080/",
          "height": 34
        },
        "outputId": "8f050126-52d2-4e0f-971b-c6b558644b0d"
      },
      "source": [
        "lr.score(X_train, y_train)"
      ],
      "execution_count": 85,
      "outputs": [
        {
          "output_type": "execute_result",
          "data": {
            "text/plain": [
              "0.6253428372862944"
            ]
          },
          "metadata": {
            "tags": []
          },
          "execution_count": 85
        }
      ]
    },
    {
      "cell_type": "markdown",
      "metadata": {
        "id": "HDXsLQGwdQjf",
        "colab_type": "text"
      },
      "source": [
        "**Prediction error plot:**\n",
        "\n",
        "A prediction error plot shows the actual targets from the dataset against the predicted values generated by our model. This allows us to see how much variance is in the model."
      ]
    },
    {
      "cell_type": "code",
      "metadata": {
        "id": "ZgZWn_IMddR_",
        "colab_type": "code",
        "colab": {
          "base_uri": "https://localhost:8080/",
          "height": 282
        },
        "outputId": "100a670f-635f-4693-f994-1f4faad05a7b"
      },
      "source": [
        "predictions = lr.predict(X_test)\n",
        "plt.scatter(y_test, predictions,color=\"green\")\n"
      ],
      "execution_count": 86,
      "outputs": [
        {
          "output_type": "execute_result",
          "data": {
            "text/plain": [
              "<matplotlib.collections.PathCollection at 0x7f08bc1defd0>"
            ]
          },
          "metadata": {
            "tags": []
          },
          "execution_count": 86
        },
        {
          "output_type": "display_data",
          "data": {
            "image/png": "[encoded data removed]",
            "text/plain": [
              "<Figure size 432x288 with 1 Axes>"
            ]
          },
          "metadata": {
            "tags": [],
            "needs_background": "light"
          }
        }
      ]
    },
    {
      "cell_type": "markdown",
      "metadata": {
        "id": "ia2hLQFbdsJq",
        "colab_type": "text"
      },
      "source": [
        "**Residual Plot:**\n",
        "\n",
        "A residual plot is a graph that shows the residuals on the vertical axis and the independent variable on the horizontal axis. If the points in a residual plot are randomly dispersed around the horizontal axis, a linear regression model is appropriate for the data; otherwise, a nonlinear model is more appropriate.\n",
        "\n"
      ]
    },
    {
      "cell_type": "code",
      "metadata": {
        "id": "l9xhlplkdvTh",
        "colab_type": "code",
        "colab": {
          "base_uri": "https://localhost:8080/",
          "height": 307
        },
        "outputId": "0c1ffe64-99c8-46e6-ef06-9c9f4d7f35a9"
      },
      "source": [
        "sns.distplot((y_test - predictions), bins = 50)"
      ],
      "execution_count": 87,
      "outputs": [
        {
          "output_type": "execute_result",
          "data": {
            "text/plain": [
              "<matplotlib.axes._subplots.AxesSubplot at 0x7f08bc21e828>"
            ]
          },
          "metadata": {
            "tags": []
          },
          "execution_count": 87
        },
        {
          "output_type": "display_data",
          "data": {
            "image/png": "[encoded data removed]",
            "text/plain": [
              "<Figure size 432x288 with 1 Axes>"
            ]
          },
          "metadata": {
            "tags": [],
            "needs_background": "light"
          }
        }
      ]
    },
    {
      "cell_type": "markdown",
      "metadata": {
        "id": "HrDRyoBzd12E",
        "colab_type": "text"
      },
      "source": [
        "**Mean Absolute Error:**"
      ]
    },
    {
      "cell_type": "code",
      "metadata": {
        "id": "N_U18culd7wD",
        "colab_type": "code",
        "colab": {
          "base_uri": "https://localhost:8080/",
          "height": 34
        },
        "outputId": "cd081678-9ad8-4930-dd32-e892bd316f36"
      },
      "source": [
        "from sklearn import metrics\n",
        "print('MAE:', metrics.mean_absolute_error(y_test, predictions))"
      ],
      "execution_count": 88,
      "outputs": [
        {
          "output_type": "stream",
          "text": [
            "MAE: 4516.146351638622\n"
          ],
          "name": "stdout"
        }
      ]
    },
    {
      "cell_type": "markdown",
      "metadata": {
        "id": "loL7hAyHd_c0",
        "colab_type": "text"
      },
      "source": [
        "**Mean Squared Error:**"
      ]
    },
    {
      "cell_type": "code",
      "metadata": {
        "id": "ZALei-k1eFeA",
        "colab_type": "code",
        "colab": {
          "base_uri": "https://localhost:8080/",
          "height": 34
        },
        "outputId": "676f6195-ff0a-4f62-f83f-3f079818b8fa"
      },
      "source": [
        "print('MSE:', metrics.mean_squared_error(y_test, predictions))"
      ],
      "execution_count": 89,
      "outputs": [
        {
          "output_type": "stream",
          "text": [
            "MSE: 35238466.820108525\n"
          ],
          "name": "stdout"
        }
      ]
    },
    {
      "cell_type": "markdown",
      "metadata": {
        "id": "pyTUa8QReaa9",
        "colab_type": "text"
      },
      "source": [
        "**Root Mean Squared Error:**"
      ]
    },
    {
      "cell_type": "code",
      "metadata": {
        "id": "9auVSEPYegnz",
        "colab_type": "code",
        "colab": {
          "base_uri": "https://localhost:8080/",
          "height": 34
        },
        "outputId": "9eaba866-f60d-4c2f-f2c6-6f450616c7f1"
      },
      "source": [
        "print('RMSE:', np.sqrt(metrics.mean_squared_error(y_test, predictions)))"
      ],
      "execution_count": 90,
      "outputs": [
        {
          "output_type": "stream",
          "text": [
            "RMSE: 5936.199695100269\n"
          ],
          "name": "stdout"
        }
      ]
    },
    {
      "cell_type": "markdown",
      "metadata": {
        "id": "NtAaR6kmeivL",
        "colab_type": "text"
      },
      "source": [
        "Hence, As the error values are not too high, so we can say that our ML model is performing well"
      ]
    }
  ]
}
